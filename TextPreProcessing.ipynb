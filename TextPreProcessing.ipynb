{
  "nbformat": 4,
  "nbformat_minor": 0,
  "metadata": {
    "colab": {
      "provenance": [],
      "mount_file_id": "11ozVduxQmzVu2Pix3bsbWZtWQOfOpkXW",
      "authorship_tag": "ABX9TyOmIoxL/E+JzKDhJq2RVkhs",
      "include_colab_link": true
    },
    "kernelspec": {
      "name": "python3",
      "display_name": "Python 3"
    },
    "language_info": {
      "name": "python"
    }
  },
  "cells": [
    {
      "cell_type": "markdown",
      "metadata": {
        "id": "view-in-github",
        "colab_type": "text"
      },
      "source": [
        "<a href=\"https://colab.research.google.com/github/Haneen-Alahmadi/Data_Preprocessing/blob/main/TextPreProcessing.ipynb\" target=\"_parent\"><img src=\"https://colab.research.google.com/assets/colab-badge.svg\" alt=\"Open In Colab\"/></a>"
      ]
    },
    {
      "cell_type": "code",
      "execution_count": 4,
      "metadata": {
        "id": "RiVJS1EvcWrc"
      },
      "outputs": [],
      "source": [
        "import numpy as np\n",
        "import pandas as pd\n",
        "import re\n",
        "import nltk\n",
        "from nltk.corpus import stopwords\n",
        "from nltk.stem.porter import PorterStemmer\n",
        "from sklearn.feature_extraction.text import TfidfVectorizer\n",
        "from sklearn.model_selection import train_test_split"
      ]
    },
    {
      "cell_type": "code",
      "source": [
        "nltk.download('stopwords')"
      ],
      "metadata": {
        "colab": {
          "base_uri": "https://localhost:8080/"
        },
        "id": "tdjnXKxbcqr2",
        "outputId": "4741953a-1a44-49ea-8f73-45db080e9708"
      },
      "execution_count": 5,
      "outputs": [
        {
          "output_type": "stream",
          "name": "stderr",
          "text": [
            "[nltk_data] Downloading package stopwords to /root/nltk_data...\n",
            "[nltk_data]   Package stopwords is already up-to-date!\n"
          ]
        },
        {
          "output_type": "execute_result",
          "data": {
            "text/plain": [
              "True"
            ]
          },
          "metadata": {},
          "execution_count": 5
        }
      ]
    },
    {
      "cell_type": "code",
      "source": [
        "print(stopwords.words('english'))"
      ],
      "metadata": {
        "colab": {
          "base_uri": "https://localhost:8080/"
        },
        "id": "3g3_d9Dwcrpv",
        "outputId": "c55130ef-ac1a-45c5-9d14-99223f8529c4"
      },
      "execution_count": 6,
      "outputs": [
        {
          "output_type": "stream",
          "name": "stdout",
          "text": [
            "['i', 'me', 'my', 'myself', 'we', 'our', 'ours', 'ourselves', 'you', \"you're\", \"you've\", \"you'll\", \"you'd\", 'your', 'yours', 'yourself', 'yourselves', 'he', 'him', 'his', 'himself', 'she', \"she's\", 'her', 'hers', 'herself', 'it', \"it's\", 'its', 'itself', 'they', 'them', 'their', 'theirs', 'themselves', 'what', 'which', 'who', 'whom', 'this', 'that', \"that'll\", 'these', 'those', 'am', 'is', 'are', 'was', 'were', 'be', 'been', 'being', 'have', 'has', 'had', 'having', 'do', 'does', 'did', 'doing', 'a', 'an', 'the', 'and', 'but', 'if', 'or', 'because', 'as', 'until', 'while', 'of', 'at', 'by', 'for', 'with', 'about', 'against', 'between', 'into', 'through', 'during', 'before', 'after', 'above', 'below', 'to', 'from', 'up', 'down', 'in', 'out', 'on', 'off', 'over', 'under', 'again', 'further', 'then', 'once', 'here', 'there', 'when', 'where', 'why', 'how', 'all', 'any', 'both', 'each', 'few', 'more', 'most', 'other', 'some', 'such', 'no', 'nor', 'not', 'only', 'own', 'same', 'so', 'than', 'too', 'very', 's', 't', 'can', 'will', 'just', 'don', \"don't\", 'should', \"should've\", 'now', 'd', 'll', 'm', 'o', 're', 've', 'y', 'ain', 'aren', \"aren't\", 'couldn', \"couldn't\", 'didn', \"didn't\", 'doesn', \"doesn't\", 'hadn', \"hadn't\", 'hasn', \"hasn't\", 'haven', \"haven't\", 'isn', \"isn't\", 'ma', 'mightn', \"mightn't\", 'mustn', \"mustn't\", 'needn', \"needn't\", 'shan', \"shan't\", 'shouldn', \"shouldn't\", 'wasn', \"wasn't\", 'weren', \"weren't\", 'won', \"won't\", 'wouldn', \"wouldn't\"]\n"
          ]
        }
      ]
    },
    {
      "cell_type": "code",
      "source": [
        "news_data = pd.read_csv('/content/drive/MyDrive/dataset/train.csv')"
      ],
      "metadata": {
        "id": "w0b0y0j4cuL4"
      },
      "execution_count": 7,
      "outputs": []
    },
    {
      "cell_type": "code",
      "source": [
        "news_data.head()"
      ],
      "metadata": {
        "colab": {
          "base_uri": "https://localhost:8080/",
          "height": 293
        },
        "id": "zaSW_8E_ddHk",
        "outputId": "72597dda-5ffe-4d05-8223-bb9e3de3b8e7"
      },
      "execution_count": 8,
      "outputs": [
        {
          "output_type": "execute_result",
          "data": {
            "text/plain": [
              "   id                                              title              author  \\\n",
              "0   0  House Dem Aide: We Didn’t Even See Comey’s Let...       Darrell Lucus   \n",
              "1   1  FLYNN: Hillary Clinton, Big Woman on Campus - ...     Daniel J. Flynn   \n",
              "2   2                  Why the Truth Might Get You Fired  Consortiumnews.com   \n",
              "3   3  15 Civilians Killed In Single US Airstrike Hav...     Jessica Purkiss   \n",
              "4   4  Iranian woman jailed for fictional unpublished...      Howard Portnoy   \n",
              "\n",
              "                                                text  label  \n",
              "0  House Dem Aide: We Didn’t Even See Comey’s Let...      1  \n",
              "1  Ever get the feeling your life circles the rou...      0  \n",
              "2  Why the Truth Might Get You Fired October 29, ...      1  \n",
              "3  Videos 15 Civilians Killed In Single US Airstr...      1  \n",
              "4  Print \\nAn Iranian woman has been sentenced to...      1  "
            ],
            "text/html": [
              "\n",
              "  <div id=\"df-b02a335f-ffc0-4260-b54d-2905b239400a\" class=\"colab-df-container\">\n",
              "    <div>\n",
              "<style scoped>\n",
              "    .dataframe tbody tr th:only-of-type {\n",
              "        vertical-align: middle;\n",
              "    }\n",
              "\n",
              "    .dataframe tbody tr th {\n",
              "        vertical-align: top;\n",
              "    }\n",
              "\n",
              "    .dataframe thead th {\n",
              "        text-align: right;\n",
              "    }\n",
              "</style>\n",
              "<table border=\"1\" class=\"dataframe\">\n",
              "  <thead>\n",
              "    <tr style=\"text-align: right;\">\n",
              "      <th></th>\n",
              "      <th>id</th>\n",
              "      <th>title</th>\n",
              "      <th>author</th>\n",
              "      <th>text</th>\n",
              "      <th>label</th>\n",
              "    </tr>\n",
              "  </thead>\n",
              "  <tbody>\n",
              "    <tr>\n",
              "      <th>0</th>\n",
              "      <td>0</td>\n",
              "      <td>House Dem Aide: We Didn’t Even See Comey’s Let...</td>\n",
              "      <td>Darrell Lucus</td>\n",
              "      <td>House Dem Aide: We Didn’t Even See Comey’s Let...</td>\n",
              "      <td>1</td>\n",
              "    </tr>\n",
              "    <tr>\n",
              "      <th>1</th>\n",
              "      <td>1</td>\n",
              "      <td>FLYNN: Hillary Clinton, Big Woman on Campus - ...</td>\n",
              "      <td>Daniel J. Flynn</td>\n",
              "      <td>Ever get the feeling your life circles the rou...</td>\n",
              "      <td>0</td>\n",
              "    </tr>\n",
              "    <tr>\n",
              "      <th>2</th>\n",
              "      <td>2</td>\n",
              "      <td>Why the Truth Might Get You Fired</td>\n",
              "      <td>Consortiumnews.com</td>\n",
              "      <td>Why the Truth Might Get You Fired October 29, ...</td>\n",
              "      <td>1</td>\n",
              "    </tr>\n",
              "    <tr>\n",
              "      <th>3</th>\n",
              "      <td>3</td>\n",
              "      <td>15 Civilians Killed In Single US Airstrike Hav...</td>\n",
              "      <td>Jessica Purkiss</td>\n",
              "      <td>Videos 15 Civilians Killed In Single US Airstr...</td>\n",
              "      <td>1</td>\n",
              "    </tr>\n",
              "    <tr>\n",
              "      <th>4</th>\n",
              "      <td>4</td>\n",
              "      <td>Iranian woman jailed for fictional unpublished...</td>\n",
              "      <td>Howard Portnoy</td>\n",
              "      <td>Print \\nAn Iranian woman has been sentenced to...</td>\n",
              "      <td>1</td>\n",
              "    </tr>\n",
              "  </tbody>\n",
              "</table>\n",
              "</div>\n",
              "    <div class=\"colab-df-buttons\">\n",
              "\n",
              "  <div class=\"colab-df-container\">\n",
              "    <button class=\"colab-df-convert\" onclick=\"convertToInteractive('df-b02a335f-ffc0-4260-b54d-2905b239400a')\"\n",
              "            title=\"Convert this dataframe to an interactive table.\"\n",
              "            style=\"display:none;\">\n",
              "\n",
              "  <svg xmlns=\"http://www.w3.org/2000/svg\" height=\"24px\" viewBox=\"0 -960 960 960\">\n",
              "    <path d=\"M120-120v-720h720v720H120Zm60-500h600v-160H180v160Zm220 220h160v-160H400v160Zm0 220h160v-160H400v160ZM180-400h160v-160H180v160Zm440 0h160v-160H620v160ZM180-180h160v-160H180v160Zm440 0h160v-160H620v160Z\"/>\n",
              "  </svg>\n",
              "    </button>\n",
              "\n",
              "  <style>\n",
              "    .colab-df-container {\n",
              "      display:flex;\n",
              "      gap: 12px;\n",
              "    }\n",
              "\n",
              "    .colab-df-convert {\n",
              "      background-color: #E8F0FE;\n",
              "      border: none;\n",
              "      border-radius: 50%;\n",
              "      cursor: pointer;\n",
              "      display: none;\n",
              "      fill: #1967D2;\n",
              "      height: 32px;\n",
              "      padding: 0 0 0 0;\n",
              "      width: 32px;\n",
              "    }\n",
              "\n",
              "    .colab-df-convert:hover {\n",
              "      background-color: #E2EBFA;\n",
              "      box-shadow: 0px 1px 2px rgba(60, 64, 67, 0.3), 0px 1px 3px 1px rgba(60, 64, 67, 0.15);\n",
              "      fill: #174EA6;\n",
              "    }\n",
              "\n",
              "    .colab-df-buttons div {\n",
              "      margin-bottom: 4px;\n",
              "    }\n",
              "\n",
              "    [theme=dark] .colab-df-convert {\n",
              "      background-color: #3B4455;\n",
              "      fill: #D2E3FC;\n",
              "    }\n",
              "\n",
              "    [theme=dark] .colab-df-convert:hover {\n",
              "      background-color: #434B5C;\n",
              "      box-shadow: 0px 1px 3px 1px rgba(0, 0, 0, 0.15);\n",
              "      filter: drop-shadow(0px 1px 2px rgba(0, 0, 0, 0.3));\n",
              "      fill: #FFFFFF;\n",
              "    }\n",
              "  </style>\n",
              "\n",
              "    <script>\n",
              "      const buttonEl =\n",
              "        document.querySelector('#df-b02a335f-ffc0-4260-b54d-2905b239400a button.colab-df-convert');\n",
              "      buttonEl.style.display =\n",
              "        google.colab.kernel.accessAllowed ? 'block' : 'none';\n",
              "\n",
              "      async function convertToInteractive(key) {\n",
              "        const element = document.querySelector('#df-b02a335f-ffc0-4260-b54d-2905b239400a');\n",
              "        const dataTable =\n",
              "          await google.colab.kernel.invokeFunction('convertToInteractive',\n",
              "                                                    [key], {});\n",
              "        if (!dataTable) return;\n",
              "\n",
              "        const docLinkHtml = 'Like what you see? Visit the ' +\n",
              "          '<a target=\"_blank\" href=https://colab.research.google.com/notebooks/data_table.ipynb>data table notebook</a>'\n",
              "          + ' to learn more about interactive tables.';\n",
              "        element.innerHTML = '';\n",
              "        dataTable['output_type'] = 'display_data';\n",
              "        await google.colab.output.renderOutput(dataTable, element);\n",
              "        const docLink = document.createElement('div');\n",
              "        docLink.innerHTML = docLinkHtml;\n",
              "        element.appendChild(docLink);\n",
              "      }\n",
              "    </script>\n",
              "  </div>\n",
              "\n",
              "\n",
              "<div id=\"df-c57be1aa-c056-456e-b92e-3d02fc41c1e2\">\n",
              "  <button class=\"colab-df-quickchart\" onclick=\"quickchart('df-c57be1aa-c056-456e-b92e-3d02fc41c1e2')\"\n",
              "            title=\"Suggest charts.\"\n",
              "            style=\"display:none;\">\n",
              "\n",
              "<svg xmlns=\"http://www.w3.org/2000/svg\" height=\"24px\"viewBox=\"0 0 24 24\"\n",
              "     width=\"24px\">\n",
              "    <g>\n",
              "        <path d=\"M19 3H5c-1.1 0-2 .9-2 2v14c0 1.1.9 2 2 2h14c1.1 0 2-.9 2-2V5c0-1.1-.9-2-2-2zM9 17H7v-7h2v7zm4 0h-2V7h2v10zm4 0h-2v-4h2v4z\"/>\n",
              "    </g>\n",
              "</svg>\n",
              "  </button>\n",
              "\n",
              "<style>\n",
              "  .colab-df-quickchart {\n",
              "      --bg-color: #E8F0FE;\n",
              "      --fill-color: #1967D2;\n",
              "      --hover-bg-color: #E2EBFA;\n",
              "      --hover-fill-color: #174EA6;\n",
              "      --disabled-fill-color: #AAA;\n",
              "      --disabled-bg-color: #DDD;\n",
              "  }\n",
              "\n",
              "  [theme=dark] .colab-df-quickchart {\n",
              "      --bg-color: #3B4455;\n",
              "      --fill-color: #D2E3FC;\n",
              "      --hover-bg-color: #434B5C;\n",
              "      --hover-fill-color: #FFFFFF;\n",
              "      --disabled-bg-color: #3B4455;\n",
              "      --disabled-fill-color: #666;\n",
              "  }\n",
              "\n",
              "  .colab-df-quickchart {\n",
              "    background-color: var(--bg-color);\n",
              "    border: none;\n",
              "    border-radius: 50%;\n",
              "    cursor: pointer;\n",
              "    display: none;\n",
              "    fill: var(--fill-color);\n",
              "    height: 32px;\n",
              "    padding: 0;\n",
              "    width: 32px;\n",
              "  }\n",
              "\n",
              "  .colab-df-quickchart:hover {\n",
              "    background-color: var(--hover-bg-color);\n",
              "    box-shadow: 0 1px 2px rgba(60, 64, 67, 0.3), 0 1px 3px 1px rgba(60, 64, 67, 0.15);\n",
              "    fill: var(--button-hover-fill-color);\n",
              "  }\n",
              "\n",
              "  .colab-df-quickchart-complete:disabled,\n",
              "  .colab-df-quickchart-complete:disabled:hover {\n",
              "    background-color: var(--disabled-bg-color);\n",
              "    fill: var(--disabled-fill-color);\n",
              "    box-shadow: none;\n",
              "  }\n",
              "\n",
              "  .colab-df-spinner {\n",
              "    border: 2px solid var(--fill-color);\n",
              "    border-color: transparent;\n",
              "    border-bottom-color: var(--fill-color);\n",
              "    animation:\n",
              "      spin 1s steps(1) infinite;\n",
              "  }\n",
              "\n",
              "  @keyframes spin {\n",
              "    0% {\n",
              "      border-color: transparent;\n",
              "      border-bottom-color: var(--fill-color);\n",
              "      border-left-color: var(--fill-color);\n",
              "    }\n",
              "    20% {\n",
              "      border-color: transparent;\n",
              "      border-left-color: var(--fill-color);\n",
              "      border-top-color: var(--fill-color);\n",
              "    }\n",
              "    30% {\n",
              "      border-color: transparent;\n",
              "      border-left-color: var(--fill-color);\n",
              "      border-top-color: var(--fill-color);\n",
              "      border-right-color: var(--fill-color);\n",
              "    }\n",
              "    40% {\n",
              "      border-color: transparent;\n",
              "      border-right-color: var(--fill-color);\n",
              "      border-top-color: var(--fill-color);\n",
              "    }\n",
              "    60% {\n",
              "      border-color: transparent;\n",
              "      border-right-color: var(--fill-color);\n",
              "    }\n",
              "    80% {\n",
              "      border-color: transparent;\n",
              "      border-right-color: var(--fill-color);\n",
              "      border-bottom-color: var(--fill-color);\n",
              "    }\n",
              "    90% {\n",
              "      border-color: transparent;\n",
              "      border-bottom-color: var(--fill-color);\n",
              "    }\n",
              "  }\n",
              "</style>\n",
              "\n",
              "  <script>\n",
              "    async function quickchart(key) {\n",
              "      const quickchartButtonEl =\n",
              "        document.querySelector('#' + key + ' button');\n",
              "      quickchartButtonEl.disabled = true;  // To prevent multiple clicks.\n",
              "      quickchartButtonEl.classList.add('colab-df-spinner');\n",
              "      try {\n",
              "        const charts = await google.colab.kernel.invokeFunction(\n",
              "            'suggestCharts', [key], {});\n",
              "      } catch (error) {\n",
              "        console.error('Error during call to suggestCharts:', error);\n",
              "      }\n",
              "      quickchartButtonEl.classList.remove('colab-df-spinner');\n",
              "      quickchartButtonEl.classList.add('colab-df-quickchart-complete');\n",
              "    }\n",
              "    (() => {\n",
              "      let quickchartButtonEl =\n",
              "        document.querySelector('#df-c57be1aa-c056-456e-b92e-3d02fc41c1e2 button');\n",
              "      quickchartButtonEl.style.display =\n",
              "        google.colab.kernel.accessAllowed ? 'block' : 'none';\n",
              "    })();\n",
              "  </script>\n",
              "</div>\n",
              "    </div>\n",
              "  </div>\n"
            ]
          },
          "metadata": {},
          "execution_count": 8
        }
      ]
    },
    {
      "cell_type": "code",
      "source": [
        "news_data.shape"
      ],
      "metadata": {
        "colab": {
          "base_uri": "https://localhost:8080/"
        },
        "id": "jtyyi5I4dgVl",
        "outputId": "a1070cc1-bb97-4441-dc40-f646712f8b27"
      },
      "execution_count": 9,
      "outputs": [
        {
          "output_type": "execute_result",
          "data": {
            "text/plain": [
              "(20800, 5)"
            ]
          },
          "metadata": {},
          "execution_count": 9
        }
      ]
    },
    {
      "cell_type": "code",
      "source": [
        "news_data.isnull().sum()"
      ],
      "metadata": {
        "colab": {
          "base_uri": "https://localhost:8080/"
        },
        "id": "Cj8VCXJHdkY8",
        "outputId": "3a8a8fdc-69cd-46f8-b870-ed60807734a7"
      },
      "execution_count": 10,
      "outputs": [
        {
          "output_type": "execute_result",
          "data": {
            "text/plain": [
              "id           0\n",
              "title      558\n",
              "author    1957\n",
              "text        39\n",
              "label        0\n",
              "dtype: int64"
            ]
          },
          "metadata": {},
          "execution_count": 10
        }
      ]
    },
    {
      "cell_type": "code",
      "source": [
        "news_data = news_data.fillna('')"
      ],
      "metadata": {
        "id": "Pze64CYPdmTb"
      },
      "execution_count": 11,
      "outputs": []
    },
    {
      "cell_type": "code",
      "source": [
        "news_data['content'] = news_data['author']+' '+news_data['title']"
      ],
      "metadata": {
        "id": "bWyxXb8ydmxW"
      },
      "execution_count": 12,
      "outputs": []
    },
    {
      "cell_type": "code",
      "source": [
        "news_data.head()"
      ],
      "metadata": {
        "colab": {
          "base_uri": "https://localhost:8080/",
          "height": 414
        },
        "id": "TwkAg5hHdpCF",
        "outputId": "eb3c77c7-a0f7-45fd-d7b3-cbae90adba58"
      },
      "execution_count": 13,
      "outputs": [
        {
          "output_type": "execute_result",
          "data": {
            "text/plain": [
              "   id                                              title              author  \\\n",
              "0   0  House Dem Aide: We Didn’t Even See Comey’s Let...       Darrell Lucus   \n",
              "1   1  FLYNN: Hillary Clinton, Big Woman on Campus - ...     Daniel J. Flynn   \n",
              "2   2                  Why the Truth Might Get You Fired  Consortiumnews.com   \n",
              "3   3  15 Civilians Killed In Single US Airstrike Hav...     Jessica Purkiss   \n",
              "4   4  Iranian woman jailed for fictional unpublished...      Howard Portnoy   \n",
              "\n",
              "                                                text  label  \\\n",
              "0  House Dem Aide: We Didn’t Even See Comey’s Let...      1   \n",
              "1  Ever get the feeling your life circles the rou...      0   \n",
              "2  Why the Truth Might Get You Fired October 29, ...      1   \n",
              "3  Videos 15 Civilians Killed In Single US Airstr...      1   \n",
              "4  Print \\nAn Iranian woman has been sentenced to...      1   \n",
              "\n",
              "                                             content  \n",
              "0  Darrell Lucus House Dem Aide: We Didn’t Even S...  \n",
              "1  Daniel J. Flynn FLYNN: Hillary Clinton, Big Wo...  \n",
              "2  Consortiumnews.com Why the Truth Might Get You...  \n",
              "3  Jessica Purkiss 15 Civilians Killed In Single ...  \n",
              "4  Howard Portnoy Iranian woman jailed for fictio...  "
            ],
            "text/html": [
              "\n",
              "  <div id=\"df-9e05b3fa-8e49-4ec1-b08e-470540fee099\" class=\"colab-df-container\">\n",
              "    <div>\n",
              "<style scoped>\n",
              "    .dataframe tbody tr th:only-of-type {\n",
              "        vertical-align: middle;\n",
              "    }\n",
              "\n",
              "    .dataframe tbody tr th {\n",
              "        vertical-align: top;\n",
              "    }\n",
              "\n",
              "    .dataframe thead th {\n",
              "        text-align: right;\n",
              "    }\n",
              "</style>\n",
              "<table border=\"1\" class=\"dataframe\">\n",
              "  <thead>\n",
              "    <tr style=\"text-align: right;\">\n",
              "      <th></th>\n",
              "      <th>id</th>\n",
              "      <th>title</th>\n",
              "      <th>author</th>\n",
              "      <th>text</th>\n",
              "      <th>label</th>\n",
              "      <th>content</th>\n",
              "    </tr>\n",
              "  </thead>\n",
              "  <tbody>\n",
              "    <tr>\n",
              "      <th>0</th>\n",
              "      <td>0</td>\n",
              "      <td>House Dem Aide: We Didn’t Even See Comey’s Let...</td>\n",
              "      <td>Darrell Lucus</td>\n",
              "      <td>House Dem Aide: We Didn’t Even See Comey’s Let...</td>\n",
              "      <td>1</td>\n",
              "      <td>Darrell Lucus House Dem Aide: We Didn’t Even S...</td>\n",
              "    </tr>\n",
              "    <tr>\n",
              "      <th>1</th>\n",
              "      <td>1</td>\n",
              "      <td>FLYNN: Hillary Clinton, Big Woman on Campus - ...</td>\n",
              "      <td>Daniel J. Flynn</td>\n",
              "      <td>Ever get the feeling your life circles the rou...</td>\n",
              "      <td>0</td>\n",
              "      <td>Daniel J. Flynn FLYNN: Hillary Clinton, Big Wo...</td>\n",
              "    </tr>\n",
              "    <tr>\n",
              "      <th>2</th>\n",
              "      <td>2</td>\n",
              "      <td>Why the Truth Might Get You Fired</td>\n",
              "      <td>Consortiumnews.com</td>\n",
              "      <td>Why the Truth Might Get You Fired October 29, ...</td>\n",
              "      <td>1</td>\n",
              "      <td>Consortiumnews.com Why the Truth Might Get You...</td>\n",
              "    </tr>\n",
              "    <tr>\n",
              "      <th>3</th>\n",
              "      <td>3</td>\n",
              "      <td>15 Civilians Killed In Single US Airstrike Hav...</td>\n",
              "      <td>Jessica Purkiss</td>\n",
              "      <td>Videos 15 Civilians Killed In Single US Airstr...</td>\n",
              "      <td>1</td>\n",
              "      <td>Jessica Purkiss 15 Civilians Killed In Single ...</td>\n",
              "    </tr>\n",
              "    <tr>\n",
              "      <th>4</th>\n",
              "      <td>4</td>\n",
              "      <td>Iranian woman jailed for fictional unpublished...</td>\n",
              "      <td>Howard Portnoy</td>\n",
              "      <td>Print \\nAn Iranian woman has been sentenced to...</td>\n",
              "      <td>1</td>\n",
              "      <td>Howard Portnoy Iranian woman jailed for fictio...</td>\n",
              "    </tr>\n",
              "  </tbody>\n",
              "</table>\n",
              "</div>\n",
              "    <div class=\"colab-df-buttons\">\n",
              "\n",
              "  <div class=\"colab-df-container\">\n",
              "    <button class=\"colab-df-convert\" onclick=\"convertToInteractive('df-9e05b3fa-8e49-4ec1-b08e-470540fee099')\"\n",
              "            title=\"Convert this dataframe to an interactive table.\"\n",
              "            style=\"display:none;\">\n",
              "\n",
              "  <svg xmlns=\"http://www.w3.org/2000/svg\" height=\"24px\" viewBox=\"0 -960 960 960\">\n",
              "    <path d=\"M120-120v-720h720v720H120Zm60-500h600v-160H180v160Zm220 220h160v-160H400v160Zm0 220h160v-160H400v160ZM180-400h160v-160H180v160Zm440 0h160v-160H620v160ZM180-180h160v-160H180v160Zm440 0h160v-160H620v160Z\"/>\n",
              "  </svg>\n",
              "    </button>\n",
              "\n",
              "  <style>\n",
              "    .colab-df-container {\n",
              "      display:flex;\n",
              "      gap: 12px;\n",
              "    }\n",
              "\n",
              "    .colab-df-convert {\n",
              "      background-color: #E8F0FE;\n",
              "      border: none;\n",
              "      border-radius: 50%;\n",
              "      cursor: pointer;\n",
              "      display: none;\n",
              "      fill: #1967D2;\n",
              "      height: 32px;\n",
              "      padding: 0 0 0 0;\n",
              "      width: 32px;\n",
              "    }\n",
              "\n",
              "    .colab-df-convert:hover {\n",
              "      background-color: #E2EBFA;\n",
              "      box-shadow: 0px 1px 2px rgba(60, 64, 67, 0.3), 0px 1px 3px 1px rgba(60, 64, 67, 0.15);\n",
              "      fill: #174EA6;\n",
              "    }\n",
              "\n",
              "    .colab-df-buttons div {\n",
              "      margin-bottom: 4px;\n",
              "    }\n",
              "\n",
              "    [theme=dark] .colab-df-convert {\n",
              "      background-color: #3B4455;\n",
              "      fill: #D2E3FC;\n",
              "    }\n",
              "\n",
              "    [theme=dark] .colab-df-convert:hover {\n",
              "      background-color: #434B5C;\n",
              "      box-shadow: 0px 1px 3px 1px rgba(0, 0, 0, 0.15);\n",
              "      filter: drop-shadow(0px 1px 2px rgba(0, 0, 0, 0.3));\n",
              "      fill: #FFFFFF;\n",
              "    }\n",
              "  </style>\n",
              "\n",
              "    <script>\n",
              "      const buttonEl =\n",
              "        document.querySelector('#df-9e05b3fa-8e49-4ec1-b08e-470540fee099 button.colab-df-convert');\n",
              "      buttonEl.style.display =\n",
              "        google.colab.kernel.accessAllowed ? 'block' : 'none';\n",
              "\n",
              "      async function convertToInteractive(key) {\n",
              "        const element = document.querySelector('#df-9e05b3fa-8e49-4ec1-b08e-470540fee099');\n",
              "        const dataTable =\n",
              "          await google.colab.kernel.invokeFunction('convertToInteractive',\n",
              "                                                    [key], {});\n",
              "        if (!dataTable) return;\n",
              "\n",
              "        const docLinkHtml = 'Like what you see? Visit the ' +\n",
              "          '<a target=\"_blank\" href=https://colab.research.google.com/notebooks/data_table.ipynb>data table notebook</a>'\n",
              "          + ' to learn more about interactive tables.';\n",
              "        element.innerHTML = '';\n",
              "        dataTable['output_type'] = 'display_data';\n",
              "        await google.colab.output.renderOutput(dataTable, element);\n",
              "        const docLink = document.createElement('div');\n",
              "        docLink.innerHTML = docLinkHtml;\n",
              "        element.appendChild(docLink);\n",
              "      }\n",
              "    </script>\n",
              "  </div>\n",
              "\n",
              "\n",
              "<div id=\"df-4e6595b5-80bf-497b-9c7b-7164f5f4ca29\">\n",
              "  <button class=\"colab-df-quickchart\" onclick=\"quickchart('df-4e6595b5-80bf-497b-9c7b-7164f5f4ca29')\"\n",
              "            title=\"Suggest charts.\"\n",
              "            style=\"display:none;\">\n",
              "\n",
              "<svg xmlns=\"http://www.w3.org/2000/svg\" height=\"24px\"viewBox=\"0 0 24 24\"\n",
              "     width=\"24px\">\n",
              "    <g>\n",
              "        <path d=\"M19 3H5c-1.1 0-2 .9-2 2v14c0 1.1.9 2 2 2h14c1.1 0 2-.9 2-2V5c0-1.1-.9-2-2-2zM9 17H7v-7h2v7zm4 0h-2V7h2v10zm4 0h-2v-4h2v4z\"/>\n",
              "    </g>\n",
              "</svg>\n",
              "  </button>\n",
              "\n",
              "<style>\n",
              "  .colab-df-quickchart {\n",
              "      --bg-color: #E8F0FE;\n",
              "      --fill-color: #1967D2;\n",
              "      --hover-bg-color: #E2EBFA;\n",
              "      --hover-fill-color: #174EA6;\n",
              "      --disabled-fill-color: #AAA;\n",
              "      --disabled-bg-color: #DDD;\n",
              "  }\n",
              "\n",
              "  [theme=dark] .colab-df-quickchart {\n",
              "      --bg-color: #3B4455;\n",
              "      --fill-color: #D2E3FC;\n",
              "      --hover-bg-color: #434B5C;\n",
              "      --hover-fill-color: #FFFFFF;\n",
              "      --disabled-bg-color: #3B4455;\n",
              "      --disabled-fill-color: #666;\n",
              "  }\n",
              "\n",
              "  .colab-df-quickchart {\n",
              "    background-color: var(--bg-color);\n",
              "    border: none;\n",
              "    border-radius: 50%;\n",
              "    cursor: pointer;\n",
              "    display: none;\n",
              "    fill: var(--fill-color);\n",
              "    height: 32px;\n",
              "    padding: 0;\n",
              "    width: 32px;\n",
              "  }\n",
              "\n",
              "  .colab-df-quickchart:hover {\n",
              "    background-color: var(--hover-bg-color);\n",
              "    box-shadow: 0 1px 2px rgba(60, 64, 67, 0.3), 0 1px 3px 1px rgba(60, 64, 67, 0.15);\n",
              "    fill: var(--button-hover-fill-color);\n",
              "  }\n",
              "\n",
              "  .colab-df-quickchart-complete:disabled,\n",
              "  .colab-df-quickchart-complete:disabled:hover {\n",
              "    background-color: var(--disabled-bg-color);\n",
              "    fill: var(--disabled-fill-color);\n",
              "    box-shadow: none;\n",
              "  }\n",
              "\n",
              "  .colab-df-spinner {\n",
              "    border: 2px solid var(--fill-color);\n",
              "    border-color: transparent;\n",
              "    border-bottom-color: var(--fill-color);\n",
              "    animation:\n",
              "      spin 1s steps(1) infinite;\n",
              "  }\n",
              "\n",
              "  @keyframes spin {\n",
              "    0% {\n",
              "      border-color: transparent;\n",
              "      border-bottom-color: var(--fill-color);\n",
              "      border-left-color: var(--fill-color);\n",
              "    }\n",
              "    20% {\n",
              "      border-color: transparent;\n",
              "      border-left-color: var(--fill-color);\n",
              "      border-top-color: var(--fill-color);\n",
              "    }\n",
              "    30% {\n",
              "      border-color: transparent;\n",
              "      border-left-color: var(--fill-color);\n",
              "      border-top-color: var(--fill-color);\n",
              "      border-right-color: var(--fill-color);\n",
              "    }\n",
              "    40% {\n",
              "      border-color: transparent;\n",
              "      border-right-color: var(--fill-color);\n",
              "      border-top-color: var(--fill-color);\n",
              "    }\n",
              "    60% {\n",
              "      border-color: transparent;\n",
              "      border-right-color: var(--fill-color);\n",
              "    }\n",
              "    80% {\n",
              "      border-color: transparent;\n",
              "      border-right-color: var(--fill-color);\n",
              "      border-bottom-color: var(--fill-color);\n",
              "    }\n",
              "    90% {\n",
              "      border-color: transparent;\n",
              "      border-bottom-color: var(--fill-color);\n",
              "    }\n",
              "  }\n",
              "</style>\n",
              "\n",
              "  <script>\n",
              "    async function quickchart(key) {\n",
              "      const quickchartButtonEl =\n",
              "        document.querySelector('#' + key + ' button');\n",
              "      quickchartButtonEl.disabled = true;  // To prevent multiple clicks.\n",
              "      quickchartButtonEl.classList.add('colab-df-spinner');\n",
              "      try {\n",
              "        const charts = await google.colab.kernel.invokeFunction(\n",
              "            'suggestCharts', [key], {});\n",
              "      } catch (error) {\n",
              "        console.error('Error during call to suggestCharts:', error);\n",
              "      }\n",
              "      quickchartButtonEl.classList.remove('colab-df-spinner');\n",
              "      quickchartButtonEl.classList.add('colab-df-quickchart-complete');\n",
              "    }\n",
              "    (() => {\n",
              "      let quickchartButtonEl =\n",
              "        document.querySelector('#df-4e6595b5-80bf-497b-9c7b-7164f5f4ca29 button');\n",
              "      quickchartButtonEl.style.display =\n",
              "        google.colab.kernel.accessAllowed ? 'block' : 'none';\n",
              "    })();\n",
              "  </script>\n",
              "</div>\n",
              "    </div>\n",
              "  </div>\n"
            ]
          },
          "metadata": {},
          "execution_count": 13
        }
      ]
    },
    {
      "cell_type": "code",
      "source": [
        "X = news_data.drop(columns='label', axis =1)\n",
        "Y = news_data['label']"
      ],
      "metadata": {
        "id": "zh8poiVFdrCf"
      },
      "execution_count": 14,
      "outputs": []
    },
    {
      "cell_type": "code",
      "source": [
        "print(X)"
      ],
      "metadata": {
        "colab": {
          "base_uri": "https://localhost:8080/"
        },
        "id": "NYDHRr1PdtWn",
        "outputId": "7b645608-6d82-4f8e-bfd4-a7916c32177d"
      },
      "execution_count": 15,
      "outputs": [
        {
          "output_type": "stream",
          "name": "stdout",
          "text": [
            "          id                                              title  \\\n",
            "0          0  House Dem Aide: We Didn’t Even See Comey’s Let...   \n",
            "1          1  FLYNN: Hillary Clinton, Big Woman on Campus - ...   \n",
            "2          2                  Why the Truth Might Get You Fired   \n",
            "3          3  15 Civilians Killed In Single US Airstrike Hav...   \n",
            "4          4  Iranian woman jailed for fictional unpublished...   \n",
            "...      ...                                                ...   \n",
            "20795  20795  Rapper T.I.: Trump a ’Poster Child For White S...   \n",
            "20796  20796  N.F.L. Playoffs: Schedule, Matchups and Odds -...   \n",
            "20797  20797  Macy’s Is Said to Receive Takeover Approach by...   \n",
            "20798  20798  NATO, Russia To Hold Parallel Exercises In Bal...   \n",
            "20799  20799                          What Keeps the F-35 Alive   \n",
            "\n",
            "                                          author  \\\n",
            "0                                  Darrell Lucus   \n",
            "1                                Daniel J. Flynn   \n",
            "2                             Consortiumnews.com   \n",
            "3                                Jessica Purkiss   \n",
            "4                                 Howard Portnoy   \n",
            "...                                          ...   \n",
            "20795                              Jerome Hudson   \n",
            "20796                           Benjamin Hoffman   \n",
            "20797  Michael J. de la Merced and Rachel Abrams   \n",
            "20798                                Alex Ansary   \n",
            "20799                              David Swanson   \n",
            "\n",
            "                                                    text  \\\n",
            "0      House Dem Aide: We Didn’t Even See Comey’s Let...   \n",
            "1      Ever get the feeling your life circles the rou...   \n",
            "2      Why the Truth Might Get You Fired October 29, ...   \n",
            "3      Videos 15 Civilians Killed In Single US Airstr...   \n",
            "4      Print \\nAn Iranian woman has been sentenced to...   \n",
            "...                                                  ...   \n",
            "20795  Rapper T. I. unloaded on black celebrities who...   \n",
            "20796  When the Green Bay Packers lost to the Washing...   \n",
            "20797  The Macy’s of today grew from the union of sev...   \n",
            "20798  NATO, Russia To Hold Parallel Exercises In Bal...   \n",
            "20799    David Swanson is an author, activist, journa...   \n",
            "\n",
            "                                                 content  \n",
            "0      Darrell Lucus House Dem Aide: We Didn’t Even S...  \n",
            "1      Daniel J. Flynn FLYNN: Hillary Clinton, Big Wo...  \n",
            "2      Consortiumnews.com Why the Truth Might Get You...  \n",
            "3      Jessica Purkiss 15 Civilians Killed In Single ...  \n",
            "4      Howard Portnoy Iranian woman jailed for fictio...  \n",
            "...                                                  ...  \n",
            "20795  Jerome Hudson Rapper T.I.: Trump a ’Poster Chi...  \n",
            "20796  Benjamin Hoffman N.F.L. Playoffs: Schedule, Ma...  \n",
            "20797  Michael J. de la Merced and Rachel Abrams Macy...  \n",
            "20798  Alex Ansary NATO, Russia To Hold Parallel Exer...  \n",
            "20799            David Swanson What Keeps the F-35 Alive  \n",
            "\n",
            "[20800 rows x 5 columns]\n"
          ]
        }
      ]
    },
    {
      "cell_type": "code",
      "source": [
        "print(Y)"
      ],
      "metadata": {
        "colab": {
          "base_uri": "https://localhost:8080/"
        },
        "id": "88MieeQWd3Gt",
        "outputId": "bde15e7f-4698-4cf6-a6a8-73928f36fb5a"
      },
      "execution_count": 16,
      "outputs": [
        {
          "output_type": "stream",
          "name": "stdout",
          "text": [
            "0        1\n",
            "1        0\n",
            "2        1\n",
            "3        1\n",
            "4        1\n",
            "        ..\n",
            "20795    0\n",
            "20796    0\n",
            "20797    0\n",
            "20798    1\n",
            "20799    1\n",
            "Name: label, Length: 20800, dtype: int64\n"
          ]
        }
      ]
    },
    {
      "cell_type": "markdown",
      "source": [
        "![Blue Simple Process Flow Chart Graph.png](data:image/png;base64,iVBORw0KGgoAAAANSUhEUgAABAAAAAMACAYAAAC6uhUNAAAACXBIWXMAAA7EAAAOxAGVKw4bAAAAO3RFWHRDb21tZW50AHhyOmQ6REFGeTNTQU12MFE6NixqOjIwOTQ1ODE1OTY2MDAzOTA2MjEsdDoyMzEwMzEyMZA8a+kAAAT5aVRYdFhNTDpjb20uYWRvYmUueG1wAAAAAAA8eDp4bXBtZXRhIHhtbG5zOng9J2Fkb2JlOm5zOm1ldGEvJz4KICAgICAgICA8cmRmOlJERiB4bWxuczpyZGY9J2h0dHA6Ly93d3cudzMub3JnLzE5OTkvMDIvMjItcmRmLXN5bnRheC1ucyMnPgoKICAgICAgICA8cmRmOkRlc2NyaXB0aW9uIHJkZjphYm91dD0nJwogICAgICAgIHhtbG5zOmRjPSdodHRwOi8vcHVybC5vcmcvZGMvZWxlbWVudHMvMS4xLyc+CiAgICAgICAgPGRjOnRpdGxlPgogICAgICAgIDxyZGY6QWx0PgogICAgICAgIDxyZGY6bGkgeG1sOmxhbmc9J3gtZGVmYXVsdCc+Qmx1ZSBTaW1wbGUgUHJvY2VzcyBGbG93IENoYXJ0IEdyYXBoIC0gMTwvcmRmOmxpPgogICAgICAgIDwvcmRmOkFsdD4KICAgICAgICA8L2RjOnRpdGxlPgogICAgICAgIDwvcmRmOkRlc2NyaXB0aW9uPgoKICAgICAgICA8cmRmOkRlc2NyaXB0aW9uIHJkZjphYm91dD0nJwogICAgICAgIHhtbG5zOkF0dHJpYj0naHR0cDovL25zLmF0dHJpYnV0aW9uLmNvbS9hZHMvMS4wLyc+CiAgICAgICAgPEF0dHJpYjpBZHM+CiAgICAgICAgPHJkZjpTZXE+CiAgICAgICAgPHJkZjpsaSByZGY6cGFyc2VUeXBlPSdSZXNvdXJjZSc+CiAgICAgICAgPEF0dHJpYjpDcmVhdGVkPjIwMjMtMTAtMzE8L0F0dHJpYjpDcmVhdGVkPgogICAgICAgIDxBdHRyaWI6RXh0SWQ+ZjEzMmU2MGQtZmEyZS00NjMyLTk4MmYtZWYxYjE2MDgzNDg1PC9BdHRyaWI6RXh0SWQ+CiAgICAgICAgPEF0dHJpYjpGYklkPjUyNTI2NTkxNDE3OTU4MDwvQXR0cmliOkZiSWQ+CiAgICAgICAgPEF0dHJpYjpUb3VjaFR5cGU+MjwvQXR0cmliOlRvdWNoVHlwZT4KICAgICAgICA8L3JkZjpsaT4KICAgICAgICA8L3JkZjpTZXE+CiAgICAgICAgPC9BdHRyaWI6QWRzPgogICAgICAgIDwvcmRmOkRlc2NyaXB0aW9uPgoKICAgICAgICA8cmRmOkRlc2NyaXB0aW9uIHJkZjphYm91dD0nJwogICAgICAgIHhtbG5zOnBkZj0naHR0cDovL25zLmFkb2JlLmNvbS9wZGYvMS4zLyc+CiAgICAgICAgPHBkZjpBdXRob3I+SGFuZWVuIEFsYWhtYWRpPC9wZGY6QXV0aG9yPgogICAgICAgIDwvcmRmOkRlc2NyaXB0aW9uPgoKICAgICAgICA8cmRmOkRlc2NyaXB0aW9uIHJkZjphYm91dD0nJwogICAgICAgIHhtbG5zOnhtcD0naHR0cDovL25zLmFkb2JlLmNvbS94YXAvMS4wLyc+CiAgICAgICAgPHhtcDpDcmVhdG9yVG9vbD5DYW52YTwveG1wOkNyZWF0b3JUb29sPgogICAgICAgIDwvcmRmOkRlc2NyaXB0aW9uPgogICAgICAgIDwvcmRmOlJERj4KICAgICAgICA8L3g6eG1wbWV0YT5HjqtFAAB+/ElEQVR4nOzYwQ3AIBDAsNL9dz6mQEjEniDvrJmZDwAAAHjafzsAAAAAOM8AAAAAgAADAAAAAAIMAAAAAAgwAAAAACDAAAAAAIAAAwAAAAACDAAAAAAIMAAAAAAgwAAAAACAAAMAAAAAAgwAAAAACDAAAAAAIMAAAAAAgAADAAAAAAIMAAAAAAgwAAAAACDAAAAAAIAAAwAAAAACDAAAAAAIMAAAAAAgwAAAAACAAAMAAAAAAgwAAAAACDAAAAAAIMAAAAAAgAADAAAAAAIMAAAAAAgwAAAAACDAAAAAAIAAAwAAAAACDAAAAAAIMAAAAAAgwAAAAACAAAMAAAAAAgwAAAAACDAAAAAAIMAAAAAAgAADAAAAAAIMAAAAAAgwAAAAACDAAAAAAIAAAwAAAAACDAAAAAAIMAAAAAAgwAAAAACAAAMAAAAAAgwAAAAACDAAAAAAIMAAAAAAgAADAAAAAAIMAAAAAAgwAAAAACDAAAAAAIAAAwAAAAACDAAAAAAIMAAAAAAgwAAAAACAAAMAAAAAAgwAAAAACDAAAAAAIMAAAAAAgAADAAAAAAI2AAAA///s2IEAAAAAgCB/60EujAQAAAAADAgAAAAAGBAAAAAAMCAAAAAAYEAAAAAAwIAAAAAAgAEBAAAAAAMCAAAAAAYEAAAAAAwIAAAAABgQAAAAADAgAAAAAGBAAAAAAMCAAAAAAIABAQAAAAADAgAAAAAGBAAAAAAMCAAAAAAYEAAAAAAwIAAAAABgQAAAAADAgAAAAACAAQEAAAAAAwIAAAAABgQAAAAADAgAAAAAGBAAAAAAMCAAAAAAYEAAAAAAwIAAAAAAgAEBAAAAAAMCAAAAAAYEAAAAAAwIAAAAABgQAAAAADAgAAAAAGBAAAAAAMCAAAAAAIABAQAAAAADAgAAAAAGBAAAAAAMCAAAAAAYEAAAAAAwIAAAAABgQAAAAADAgAAAAACAAQEAAAAAAwIAAAAABgQAAAAADAgAAAAAGBAAAAAAMCAAAAAAYEAAAAAAwIAAAAAAgAEBAAAAAAMCAAAAAAYEAAAAAAwIAAAAABgQAAAAADAgAAAAAGBAAAAAAMCAAAAAAIABAQAAAAADAgAAAAAGAgAA///s3b9LlVEcx/ETXB1EnIIaCqwliGiJFhtyyikhhFoagqA/wAabIpFsqKFoKNIhMtzMqQslGAi3XyihUEPgEMGFiIhCyh83bv9CGHXOw/f1+gs+yzOc93MeHgEAAAAAAhAAAAAAIAABAAAAAAIQAAAAACAAAQAAAAACEAAAAAAgAAEAAAAAAhAAAAAAIAABAAAAAAIQAAAAACAAAQAAAAACEAAAAAAgAAEAAAAAAhAAAAAAIAABAAAAAAIQAAAAACAAAQAAAAACEAAAAAAgAAEAAAAAAhAAAAAAIAABAAAAAAIQAAAAACAAAQAAAAACEAAAAAAgAAEAAAAAAhAAAAAAIAABAAAAAAIQAAAAACAAAQAAAAACEAAAAAAgAAEAAAAAAhAAAAAAIAABAAAAAAIQAAAAACAAAQAAAAACEAAAAAAgAAEAAAAAAhAAAAAAIAABAAAAAAIQAAAAACAAAQAAAAACEAAAAAAgAAEAAAAAAhAAAAAAIAABAAAAAAIQAAAAACAAAQAAAAACEAAAAAAgAAEAAAAAAhAAAAAAIAABAAAAAAKo5R6wXa3Wr7S51UpbrVZqt9u558A/01Grpc7OWuqoVfZxBQAAClCpE8XcwlKafdJI9flX6WPzc+458F/1dHelgf6j6dTAsXRmsD/3HAAAoGJ2tCvw+ryx+DYNj95Jiyvvc0+BIuzbuzuNj5xPp08ezz0FAACoiOIDwOUb99PV29O5Z0CRBk/0pdmJK7lnAAAAFVB0ADg3fD1NzczlngFF6ztyMD1+MJ56urtyTwEAAApW7F8ALo7ddfiHP/B86V0aujCaewYAAFC4IgPA1Mxcujn5KPcMqIz5xpt06dpk7hkAAEDBivsE4Ou3tbS/72z6vvYj9xSonOWn99KhA725ZwAAAAUq7gbA2K2HDv+wTSPjE7knAAAAhSrqBsD6xmbaeXgo/VzfyD0FKmu1MZV69+zKPQMAAChMUTcAFl6uOPzDX5qpL+SeAAAAFKioAPDsxXLuCVB59fnXuScAAAAFKioAND99yT0BKm/1QzP3BAAAoEC/AQAA///s3XlcVOX+B/APA8KwOSA7iqDiRuW+5BYYiqjE1dSLS4jdW5qaudL1WmZXbbmJJqFpaSZYKqlkZYm7hnoVBFJIRZB9EZB1WAaE4fdH4S+aGRabFT7vP8/znOf5MMrrxfnOOd+jVQWA4lKxpiMQ6bys3EJNRyAiIiIiIi2kVQWAsvIKTUcgahckNbWajkBERERERFpGqwoAWvRCAiKdJpXyd4mIiIiIiJrSqgIAEREREREREakGCwBEREREREREHQALAEREREREREQdAAsARERERERERB0ACwBEREREREREHQALAEREREREREQdAAsARERERERERB0ACwBEREREREREHQALAEREREREREQdAAsAWkgg0IOfrwd6OTtqOgoRERERERG1EwaaDtBRCAR6cOvtDCdHWxgLjSCurEJyajbSs/Nl5hp26oSDIeuw5K1PcD8jVwNpNae7oy0c7LrgevxdTUchIiIiIiJqV1gAULFhA/pg5SszMMljOCxFZjLjeQXFOHc5Dtv3RiD+1xQNJNQuW99ZBG+PEbAZOAOSmlpNxyEiIiIiImo3WABQEYFAD0FvL8LrC6YhM7cAO/Yfx5mfY5GSnovC4lLYWVtioFsvTBw3FLN8nkPYsbOajqwVBAIBHtXVoa6+XtNRiIiIiIiI2hUWAFTk0I63MGPKOGzZ/Q3+8/EBmW+z8wqKkVdQjMiLMfjXB3tQV8cLXgAI3Pw5utpb8fMgIiIiIiJSMhYAVOCtZXMxc+pzCNz8ObbtOdrifF7s/r/UzDykZuZpOgYREREREVG7wwKAkjk52uDNxX44cfZaqy7+28LWygL2tl1QUVnd5ovkLhbmsO4iQll5JfIflrR5b5G5KbraW0MqlSI1Mw+1j+pafW7P7g7obGaCwuIy5Dx42Oa9FREI9NDN3gaWIjM8KCxp088lMjeFczc7PHpUh8zcAlRWSZSWi4iIiIiISBuxAKBki+b5wNREiI3bD/zltaRSKUTmpti4JgDTvceiq73147GColKEHT2D9Vu+VHgxPm3SGMz29cCY4U/D0c7q8fGs3EJ8cfgk3gv5GlJpg8x53+/bhPNX47Fj/3dYvXAW5k33xFN9nB+PV1ZJcPJCNNZs/gxZuYVy9zY1EWLj6gWYN90TliIz1NXXQ2hkiIKiUpnHIdZ+sBfh318EAGxY6Y/nxwyG+8xVTeZ4ewxH0PpFeNrzFQxy64UNK/3hMXoQOpuZPJ6TlJqNoN3fYF94pIJPFPAcOwQbVvpj5KB+qH1UB2OhIWof1ckUD9IyH+B5vzUK1yEiIiIiItI1LAAo2RTPkYhLTEFsQvJfXsvI0BDXvg9BaXkl3gs5iBs3k1BaXgkH2y7w9RqFZS9PQy9nB8xctFHmXBsrEb7cFojrcXfwXshBRMffwYPCEtjbWGKWjzvefmMeHO2ssHhdsMy59rZd8EzfHvhh3yb0690dew7+hKjrt5BXUAxzUxN4jB6INYtm4eyhLXjW93WUlFU0Od9YaITIrz6Eg20XLH37E/x47jokNbXo18sJry+YhlfnTsHxU1fwadgPKCkTN7mboYuFeZNCRyNTEyH6u3aHn68H9n60GicvROO1f2/HneRMVEtq0MvZEf+c7Y09H61CZ3MTbN8bIbOGn68H9m97E/u/OYWXV23B/YxciMxN4Tl2CDYFLkB3R1ssWPURsvMK8aCg7XdJEBERERERaTMWAJTI1ESIp/u44POvf1TKeuuXz8NP56Pxz8CgJt/U38/IxeWYRNxLzcFnH67A+NGDcOHqL03OLSwqQ5/nAlBYVNbkeG5+EeISU1BVXYP1y1/Ctj1HkZyWI7P33OmeuJ2cgRE+S2XWiP81BWd+jsW170Ow4pUZ2LA1tMl44Gt/x4B+PTBs6pIma9+9n4XX14egsLgUK1+diWXrd6CgqLRNn8mXWwPxxjs7sffQT02OJ6flIPJiDEI/fhNvv/ES9h46iYrK6sfjnc1MEPzuUoQeOd2k6FEmrkTEyShERd9CfORnGD30KazetLtNmYiIiIiIiHSBQNMB2pP+rt2hry9ASobsBfWTen19iNzb9AFgX/hJ5OYXwcfzWbnjf75w/6Md+49D2iCF13PD5I4bdjLA8nd2KlwjMSkdpy7dwMRxQ2XGpnmPwU/no+UWFgAg5MvjMBEawddrtMJ8ivx87ZbMxf8fbfv8KCxFZnh+zOAmxyc/PwI2ViKFfRkKi8rwbeRl+EyQ/1kSERERERHpOhYAlMhCZAYAKC4VK2W9M1GxzTank0obkHQ/Cy5Odm1eu6SsAhnZBXBytJE7npb1AJdjEptdIzEpHd272soc72ZvjZR0xUWQ4lIxikvFcJZzbku+PXWl2fGbd1JRVV2DXs4OTY73cLKHpKYW91KzFZ6bmVOAbg6yjx8QERERERG1BywAKFF9vRQAoKenp5T17iRntjinorIaZibGT7R+ZbUExkJDuWP37me1eL64ogqmJkKZ4+UVVTD/Q3O+PxMaGcJSZIYycWXrw/4u4U5qi3Mqqqphbtp0/5KyCnQyMJCbt5GDbReUV1S1ORMREREREZEuYA8AJSr5/Zt/i85mylnvT8315GloaEBz9QZTEyEmjhuKAf17ws7aAqLOphAaGcLIsBN6ONkj6votueeViVu+EG5okF/siPklCZ5jB0Mg0JP7+IKv1ygIBAKc+Tm2xT3+7GFJeStyyX4mUdcTAAAzpoxD2NEzMucIBHoYN3IALkcntDkTERERERGRLuAdAEqUkZOP+nopena3V8p69VLpE59rLDTCxxsWI+dGOL76ZC18vUbBwdYK1ZJaZOc9xK07aaitfdTM3vVPvPeW3eHo7miLA9vXwsZK1GTM/dmBCHp7EcKOnsbNVnybL5Or/sk+k9vJGTj8/QV8tG6hTO8BM1Nj7Ni0DK4ujtgc/PUTrU9ERERERKTteAeAEpWUVeBeWjYGP91bozkMDPRx8sAHcOvdHWs/2IuvIs426YjfaMaUcSrZPy4xBX5LNmPne28g6dJ+JNxNQ2lZBZy62qJvz274MvwUVm3cpZK9m7PwXx9j1/vLcXT3O0hKzUJa5gOYmQrh1tsFJWVi/O0f65+oKEFERERERKQLWABQskv/u4lX505F7x5dFXbBV7V/zp6McSOehte8tTh3OU7hvOaeh/+r4hNTkJGdj5+v3cL9jFzo6enhu9NXcTYqDpm5BSrbtzmSmlpERSdg+KC+OPTdBXQy0EdllQTv7ziE81fiFb5tgYiIiIiIqD1gAUDJdh34AQvn+eDNxX549c1tGskwbsTTSM/Ob/bi38qyM+ysLVWW4atP1uLXe+lYtn6HyvZoqwnjhuC/617Fs77LcD8jV9NxVO7IkSO4efMmevToAXd3d7i6umo6EhERERERaRB7AChZYlI6Dhw7gwWzJuHFyaq5xb4lnQxarusEzPSCvr5q/vlF5qZ4fsxgHDlxSSXrP6npk8YgPjG5Q1z8X71yBdevX4dEIsGdO3ewe/dunDhxQtOxiIiIiIhIg1gAUIEV736KxKQ0HAj+FxbOm6r2/X+9lwEnBxsMcusld3zoM72xauFMlb3yrkxciey8h1gy3xeDn3KFrZUFrCw7w8qys0ofO2hJUmo2hg7oAz9fDzh3tXucyVJkBoFAOa9u1BY3bkTLHLt48SK2b9+OoqIiDSQiIiIiIiJN4yMAKlBeUYUJc97EN7vWY9f7y/HKnCk4cuISLl27iazcQkhqamHdRQR7G0sMHdAHInNT/OfjA0rbf8/BH7F4/gs4tPMt/PvDL3D+SjzKK6rwVB9n+PmOx6J5U7H83U/x6pwpStvzz/yXf4DjX2zELB93mbHyiircuJmE7V9E4Mdz11WW4c927D+O0UPdcDBkncxYfb0UaVkPcOLsNbwX8jWKf3+lo64SCo3lHs/OzsbWrVvxwgsvYNSoUWpORUREREREmsQCgIoUlZTDc3YgXnpxAhbOm4pNgQvk3pqfm1+EiJNRSt07r6AYPgFv4dP3l+PY5xvQ0NAAqbQB+voC3Lh1D7Ne24ifrydgwtghSt230dtvzMPLft44cuISbt5ORXlFFRoafmuwZ2TYCc7d7DDVcySO792IxeuCsffQTyrJ8UduvZ2xZ8sq1NdLsWFrKLIfPMSjR3UAAIFAAEuRGQY/5YqF86ZiwrghGD3tDVRWSVSeS1VmzpqFsND9KC4ulhmrra3FsWPHkJSUBD8/Pxgbyy8WEBERERFR+6LX0HhlpgXGvbgCV2NvazqGSnSxMEe/Xk6wsbZAXV09SkrFyM0vQnp2vkr37dfLCX1dnVBbW4fktGykpKv2+fcNK/3xypwpcJ+5CqmZeQrnGRjo48zBj+Dq4ginEXNUmsnGSoT4yM8QdvQ01v13X7NzvT2G48fQ97Bq424EfxGh0lyqJL77A/QFwOHDh5GQkKBwnrm5OQICAuDi4qK+cEREREREpBG8A0BNikvFGilu3L2fhbv3s9S234pXZmD73mPNXvwDQF1dPSJORmH7u0tgZ22J/IclKsu02N8XpiZCvLstrMW5kRdjkJ33EM/066GyPOpiZGSEgIAAxMXFISIiAhKJ7B0NYrEYO3fuxPjx4+Ht7Q2BgG1BiIiIiIjaK/61T0rj6uKIzmYmyMgpaNV8gUCAhoYGVFRVqzRX357dkFdQjNrfb/lvOZceKlWcSZ2GDBmC1atXw8nJSe54Q0MDzp8/j+DgYDYIJCIiIiJqx1gAIKUpLhWjvl6KPj26tmr+tEljEJuQrPJn7YvLxHC0s4KZacvPunu5D4OjnRUu/u+WSjOpm6WlJZYtWwYvLy+F3/Ln5ORg27ZtiImJUXM6IiIiIiJSBxYASGmKS8X48dw1LHrJBx6jBiqcZ2tlgf3bAjFiUF/8+8MvVJ7rq4izMDYyxGcfrICx0EjhvBcmjsKXW9cg8mIMvo28rPJc6iYQCODl5YVly5ZBJBLJnVNTU4Pw8HCEhobKfWSAiIiIiIh0F5sAklLZWIlwMGQdPEYNwtXYX/HLrykoKhFDINCDpcgM/V2749khbsjIyceKd3fh3OU4teRa8PdJ2PbOa6iW1ODi1ZtIy3qAmtpHMBYawsnRFsMG9IFzNzvsOxyJNZs/g6SmVi25VEV89weYGCsudkgkEoSHhzfbIFAkEsHf358NAomIiIiI2gkWAEglPMcOgY/nSLi6OMLczBR1dXUoLa9AcloOzl2Jx/kr8ZBK1ftfz87aErP/Nh7DB/aBvU0XGBgYoKqqGrkFxYhPTMHxU1eQ8+ChWjOpSksFgEaxsbGIiIhATU2N3HGBQABPT09MnDiRDQKJiIiIiHQcCwBE7VBrCwAAUFJSgrCwMGRlKX5bhJOTE+bPnw9LS0tlRSQiIiIiIjXjV3pEHVxjg8DmvuXPyspCUFAQYmNj1ZyOiIiIiIiUhQUAIoJAIMCkSZOwZMmSZhsEHjp0CKGhoQofGSAiIiIiIu3FAgARPebi4oLAwEA888wzCuckJCQgKCio2UcGiIiIiIhI+7AAQERNCIVCBAQEYPbs2TAykt9HoKSkBCEhITh9+jSkUqmaExIRERER0ZPQqgJAp06dNB2BqF3Q1//rv9rDhg3DmjVr4OTkJHdcKpXi9OnTCAkJQVlZ2V/ej4iIiIiIVEurCgA2VvKfPSaitjEyVE4xrbFB4IQJE6Cnpyd3TlZWFrZs2YKEhASl7ElERERERKqhVQUAWysLTUcg0nndHKyVup5AIIC3tzeWLl2qsEGgRCJBaGgoDh8+zAaBRERERERaSqsKAAP699R0BCKdN3xgP5Ws25oGgTdu3EBQUBBycnJUkoGIiIiIiJ6cVhUAJo8foekIRDrvxcljVbZ2axsEBgcH4+zZs2hoaFBZFiIiIiIiahu9Bi37C32Ez1LEJiRrOgaRTjIWGiHnxmGIzE1VvldJSQn279/f7Lf9Li4u8Pf3V/joABERERERqY9W3QEAAJsDX9Z0BCKdte71OWq5+Ad+axC4fPnyZhsEpqenY8uWLbh9+7ZaMhERERERkWJadwcAAEx6aS3ORsVpOgaRTnG0s0JyVCiERoZq3zs9PR0HDhxo9nWAI0aMwPTp0/m6TyIiIiIiDdHKAkBhURkGey9CXkGxpqMQ6YzYk7swyK2XxvaXSCQIDw9v9nWAVlZWmD9/Prp27arGZEREREREBGhpAQAAfrl9H8/NWInKKommoxBpvcM738IsH3dNxwAAxMTE4Pjx4wpfB6ivrw9vb294eHgofHSAiIiIiIiUT2sLAMBvRQDvl9aisEjxbcVEHZnQyBDf7FqPqZ4jNR2liaKiIoSFhTXbILBnz57w9/eHubm5GpMREREREXVcWl0AAICMnHwErPgvoqITNR2FSKv06+WEfVsDMXJwP01HkUsqleLUqVM4f/68wtcBGhsbY86cOXBzc1NzOiIiIiKijkfrCwCNfjjzP2wK/oqvCKQOr79rd6xaOBP/8PPWdJRWaU2DwJEjR2L69OkwMDBQYzIiUofS8gpYdDbTdAwiIiKCDhUAGokrq3E3JRPFJeWoqJKgqloCqVSnfgSiNjExNoKZqTEsLczRt6cTLEW694e0RCLBwYMHm30doLW1NQICAuDg4KDGZESkSt9GXsbMRRsRF7kbA/v31HQcIiKiDk/nCgBEpLuio6Px3XffNdsgcPLkyXB3d2eDQCId13jx34hFACIiIs1jAYCI1Kq1DQLnz58PMzPdu9uBiGQv/huxCEBERKRZLAAQkdpJpVJERkbiwoULChsEmpiYYO7cuejXTzubHBKRfIou/huxCEBERKQ5LAAQkcakp6cjNDQUYrFY4ZzRo0fD19eXDQKJdEBLF/+NWAQgIiLSjP8DAAD//+zdXUzd9R3H8Q8cmkIHIkI8YVglnczajCyrNtVCix2EtmuppxiHbcOBJo2a7ELpGi/mEhO3i41ZZG5JrWOxltAm26zQg9LNLH3iIdRl2RI3Wc5GNFvWsJyuPpwenO0pu3B/V/U8Aef8H9+v29//4pP06vtJ+RwKAACWmp2d1bFjx9IOBO7Zs0d+v9/EZADmI9Pj30AJAACA+SgAANjC+fPnNTg4qI8++ijhe0FBgbZu3ar169ebnAxAOvM9/g2UAAAAmIsCAIBtZDIQWFNTo927dzMQCNjEQo9/AyUAAADmoQAAYCvXrl3TyMiITp8+nXIgsL29XTU1NSanA3C9xR7/BkoAAADMQQEAwJamp6fV39+fciCwvr5eLS0t8vl8JiYDIGXv+DdQAgAAkHsUAABsK5OBQL/fr2AwyEAgYKJsH/8GSgAAAHKLAgCA7U1OTmpoaCjlQGBLS4vq6upMTgZ4T66OfwMlAAAAuUMBAMARLl68qMOHD+vChQtJv1m5cqV27dqlZcuWmZgM8I5cH/8GSgAAAHKDAgCAY8TjcZ08eTLlQGBxcbF2797NQCCQZWYd/wZKAAAAso8CAIDjpBsIzMvLU319vbZt28ZAIJAFZh//BkoAAACyiwIAgCNlMhBYWVmpjo4OVVRUmJgMcBerjn8DJQAAANlDAQDA0SYnJzU4OKgrV64kfF+yZIlaWlq0bt06k5MBzmf18W+gBAAAIDsoAAA4XiQS0UsvvcRAIJBFdjn+DZQAAAAsHgUAAFeIx+MaGRnRmTNnUg4EBoNBrVjBEQGkYrfj30AJAADA4lAAAHCVTAYCGxoatGXLFgYCgQTsevwbKAEAAFg4CgAArjM7O6uBgQFNTU0l/YaBQODz7H78GygBAABYGAoAAK41MTGhEydOpBwIDAQCWrt2rcnJAPtxyvFvoAQAAGD+KAAAuFomA4GrVq3Szp07VVRUZGIywD6cdvwbKAEAAJgfCgAArhePx/Xaa6/p7NmzSQcCS0pK1N7ezkAgPMepx7+BEgAAgMxRAADwjEwGAjdu3KjNmzcrPz/f5HSA+Zx+/BsoAQAAyAwFAABPyWQgsKqqSsFgUOXl5SYmA8zlluPfQAkAAEB6FAAAPCndQODSpUsVCAS0Zs0ak5MBuee2499ACQAAQGoUAAA8K9OBwF27dqmwsNDEZEDuuPX4N1ACAACQHAUAAE/LZCCwtLRU7e3tqq6uNjcckGVuP/4NlAAAACRGAQAA+ngg8MiRI4pGownf8/Ly1NjYqObmZgYC4UheOf4NlAAAAHweBQAA/E8sFtPRo0fTDgR2dnaqrKzMxGTA4njt+DdQAgAA8GkUAADwGePj4wqFQikHAnfs2KG7777b5GTA/Hn1+DdQAgAA8H8UAACQQCYDgbW1tWpra2MgELbl9ePfQAkAAMDHKAAAIIl4PK5XX31V586dSzkQ2NnZqeXLl5ucDkiN4//TKAEAAKAAAIC0wuGwBgYGkg4E5ufnq6mpSU1NTQwEwhY4/hOjBAAAeB0FAABkIJOBwOXLlysYDDIQCEtx/KdGCQAA8DIKAACYh0wGAh966CHV1taanAzg+M8UJQAAwKsoAABgniKRiF588UXNzMwk/eauu+5Sa2urli5damIyeBnH//xQAgAAvIgCAAAWIB6Pa3h4WKOjo0kHAsvKyhQMBhkIRM5x/C8MJQAAwGsoAABgETIZCGxublZjY6Py8vJMTgcv4PhfHEoAAICXOLIAuPReVDORS7oc+1CXYx9qbu6a1ZGAnCkqLFTxFwpVVlqiyptvsjoOEshkILC6ulrt7e0qLS01MRncjuM/OygBAABe4ZgC4OKl99Xzs19p8OSYpv72d6vjAJa4ufxGBTbXqWvvA/ryilusjoPPGBsbUygU0tWrVxO+FxYWqq2tjYFAZAXHf3ZRAgAAvMARBcD3nxvQj57/haKXZ62OAtjGnm9uUveTD+umG0usjoLrzMzM6MiRIykHAtesWaPW1lYtWbLExGRwE47/3KAEAAC4na0LgOjlWW3teFKjb7xpdRTAlr502xf1+rEf6rYqv9VRcJ14PK5QKKSxsbGkA4Hl5eUKBoOqqqoyOR2cjuM/tygBAABuZtsC4NJ7Ud334D69+Ze3rY4C2FrFTaU6/csDuvP2W62Ogs9INxDo8/m0adMmbdy4kYFAZITj3xyUAAAAt7JtAbDhgS6N/e5PVscAHGHFrZWaDP2UPwewoVgspv7+foXD4aTfVFdXq6OjQyUl/PshOY5/c1ECAADcyJYFwLe/97x6+45bHQNwlMb61frNwA+sjoEkRkdHNTw8nHQgsKioSDt37tSqVatMTgYn4Pi3BiUAAMBtbFcA/PXtf+qOhk6rYwCONPTzp7Wt6R6rYyCJTAYC165dq0AgwEAgPsHxby1KAACAm9iuAAjsfUqh1yesjgE40p2336o3f9tndQykYAwEjo6OJv2mvLxcnZ2dqqysNDEZ7Ijj3x4oAQAAbmGrAuDd96Mqr221OgbgaGODP9Y9X7vT6hhIIxwOq7+/X7FYLOG7z+fTli1b1NDQwECgR3H82wslAADADfKtDnC9k6fesDoC4HhDvx63OgIyUFNToyeeeEI1NTUJ3+PxuIaHh3Xw4EF98MEHJqeD1UKvT3D828zqzY/qj29NWx0DAIBFsVUBMPH7t6yOADjeqfE/WB0BGSouLtYjjzyiQCCggoKChN9MT0+ru7tbU1NTJqeDVUZOnVdg71NWx0AClAAAAKezVQEQufSe1REAx3vnH8kH5mBP9fX16urqkt/vT/g+Ozurvr4+vfzyy0l/RQDuMHLqvLZ1ftfqGEiBEgAA4GS2KgD+/S7/zRVYrH9dfNfqCFgAv9+vffv2qa6uLuk3ExMTeuaZZ3ThwgUTk8EsHP/OQQkAAHAqWxUA0WjiMSwA8zP74X+sjoAF8Pl82rFjh/bu3atly5Yl/CYSiai3t1dnz541OR1yiePfeSgBAABOZKsCAEB22Oe3PbAQK1euTDsQeOLECR06dEjRaNTkdMg2jn/nogQAADgNBQAA2JAxEHj//fcnHQgMh8MMBDocx7/zUQIAAJyEAgAAbGz9+vXq6upSRUVFwvdYLKa+vj698sorisfjJqfDYnD8uwclAADAKSgAAMDm/H6/9u/fn3IgcGxsTD09PZqZ4VcgnIDj330oAQAATkABAAAOUFBQkHYgcGZmRs8++6xGR0dNTof54Ph3L0oAAIDdUQAAgIOkGwi8evWqBgcHdejQIcVi/LKK3XD8ux8lAADAzigAAMBhjIHA7du3px0IDIfDJqdDMhz/3kEJAACwKwoAAHCoDRs26LHHHks6EBiNRvXCCy9oaGiIgUCLcfx7DyUAAMCOKAAAwMEqKyu1f/9+rVu3LuH73Nyczp07p56eHkUiEZPTQeL497LVmx/Vn8PvWB0DAIBPUADY1Oqv3K5vfH2t1TFcq7zsBrVtv0/lZTdYHQVYtIKCArW2tqYdCDxw4IDGx8dNTudtHP/4avPDlAAAANugALCpjgeb9dzT37I6hmvdseIWHf3Jd3THilusjgJkTbqBwCtXruj48ePq6+tjINAEHP+QpGvX5igBAAC2QQEAAC5iDAS2tLTI5/Ml/GZqakrd3d2anubvk3OF4x/XowQAANgFBQAAuFBDQ4Mef/zxlAOBBw8eVCgUYiAwyzj+kQglAADADigAAMCljIHAe++9N+H73Nyczpw5o97eXgYCs4TjH6lQAgAArPZfAAAA///s3XdYk1cbBvCbkISwQTaoICA4UKniqKKoKA7cW+vAUa04+6m1Wmerdde6W62KWldduAfujXuAiogiCMpI2Dsk3x+UlJABgQwCz++6vPol73lzDn4qnPs95zkUABBCSDXGZDIxcOBAuQUCP3/+jHXr1uH+/ftqHl31QpN/Uh4UAhBCCNEkCgA0gMHQQV17azRt6AxrC7Ny38fRY8PVyR4e7k4wNTZUqE8mUxeODjZwcbQHR4+t6JABANYWZmja0BnOde0Uuo+jx0YDlzpo2tC5QlX3LcxN0LShM+xtLBS+19CAg4audeHqZA82iyl6v1AgUPizCNFmxQUCnZ2dpV4vKCjA0aNHsWvXLuTk5Kh5dNqPJv9EERQCEEII0RRm2U2Isng2csG8qcPRpX1zmJkYid7npWbg+r1nGBq4DAKBUPS+4N9Jqr9va8yeNARft2gIFrPo/zI+vxD3n77GgtW7cOtBmNT+6tpbY/zwHujesSU83J1EE/+8/ALcfvAS81buxOOXkRL3sVlMRNwMwvDA5YiKiceS70ejj19bsQl4IjcVe4+GYOGa3cgv4Evt38XRHit+HI8enVqBwdABU1cXDAYDnxO5EhPwdv1mID6BK/Ze4Og++G5UbzR2cxS9F/khDht3ncDWvaek9lnMz8cL86eOQJvmDUS/Z1nZubhw/SF+XPEX8vOlj5mQ6szIyAiTJ0/GzZs3ce7cOal7/1+9eoXVq1dj1KhRMsMCIo4m/6QiikOA55e2o1F9x7JvIIQQQpSAAgA1GTukG7Ysn46n4e8wf9UuPHoegYysHDjYWqJlM3c42FqITf4BIL+Aj1kTB2PBjG+w9+glrNp6CNGxX6Cjo4PmTepj5oSBOL9vBfxGzMXdx68k+pw+rj+G9PbB0bM3sXT9Prx5FwM+vxAtPd3x0/RvcOnAKnj3n4nX72LE7mMwGKhrb422Xo1xYMt8JCSlYtnG/Xj0PAKp6Vmws66FPn5fY9rYfnBxtMOgST9L9N2oviMuH1qN15Ex6PZN0fg4emw093DFopmj0LVDCyxcG4Qb956Dl5qBL0k80b1Mpi4ObJoPf9/W2L7/LCbP+x3RnxJQ284SIwd0we9LAtHAtQ6mL9oi9fd6xvgBWLtgEm6GvkDA/9bgxav3YDB00MjNESP7d8Hd4I34du5vFfm/kRCtp6OjAx8fH7i5uWHPnj1S9/5nZGRg27Zt6NixI3r06AEGgxaLyUKTf1IZFAIQWXJy83Ag+Cqu3HmKJy8jEfkhTtNDIkQt6tdzQIumbujc1hMj+nWGPkdP00OqdnSEQqGw7Gbq0X7ATKkTWW3Xqa0nLuxbgc1BJzHrlz/Kdc+GpYEYNbArCgr46Dl6vtQn9YYGHISe3owviTx0Gf6DxHVzUyNkZedKfUJfy8wYL0J24Oqdpxg9c5XYNY4eG1lvzyC/gI9DJ69h/Jy1EuEEAEwY3hN/rpyJLsN/wLW7z8SuXfx7JSwtTPF1n2lS+7+0fyWMDA3Qtt90iWvLfxiHGeP7o8+4Rbh656nE9Wlj++H3JYEY/N0vOH7+lti1r5s3wvUj67D7n4v4bt7vEvcCwC+zAxAwpBvsbSyq7Z+5jDenYaBP/2AS+fh8Pk6ePIl79+7JbOPg4IDRo0fDwkLxLTjVHU3+ibIwGDoUAhAAQHpmNtb9eQSbdgcjLSNL08MhRKNMjQ0xbWw/zA0cRj/XKhE91lGD1T9NROizN+We/BczNTbE5qCTUif/QNGS9p2HzqNdSw8YGnAkrqekZcpcns9LzcCxczfRvnUTmf2nZ2Rh6sJNUif/ALDr8HnEJ3DRy7eN2PtWFqbo1NYTOw+el9n/joPn0fqrBnCqbSP2voOtJWZOGIB1249KnfwDwKbdwXj04i1mThggce3HKcMQl5CM75duk/l1Lf19H3Jy82Rery5CQ0Oxc+dO7Nq1CydPnsSdO3cQGRkJLpdb9s2kRihZIFBfX19qm7i4OKxbtw4PHjxQ8+iqNpr8E2WimgAEAP4+fhkNO47Dso37afJPCIC0jCws27gfjTuPx8mLdzU9nGqDtgCo2NfNG6G5hyuGTVleofsPBF+Ve/1ZeBTYLCZcHe3x/PV7hT775ZtoTBrZS+b1kFuPkZWdK/O6QCBERFQsnOqIT+Kd69pBV5eBiPefZN77/mM8AMDFyQHRnxJE748Z7AddXQY2BwXLHfvpkHtYOGMkjAz1kZlVVLBMn6OHLu2bY9PuYLkTfD6/EGevhGL6uP5y+9Bm795F4siRIzKv6+rqolatWrC0tBT9srKygoWFBczNzWnJdw1TXCBw3759eP9e8t+R/Px8/PPPPwgLC8OIESPA4UgGjjUJTf6JKtB2gJqrsFCAn1bvwpo//tH0UAipkmLiEzFg4hL8OGUYls0ZCx0dHU0PSatRAKBiPl83BZ9fiPPXFH96lpqeiah/J8qypKVnAgBMjKUf7yVPRlY2WEwm2Cym1Cf1ryNjpNwlLjMrB0YG4k8Ok3npRWMykj2m2vZWAICU1HSx99t81RBhEdFI4qbJ7TcsIhpMpi6auNfDvSdFS/hbNnMDR4+NO4/Cyxy3omGJtnn27Jnc64WFhUhKSkJSUpLU68WhgLW1tURQQKonY2NjTJ48GTdu3MD58+dlFghcs2YNRo0aBScnJ/UPsgqgyT9RJQoBap70zGwMmvQzrtx+oumhEFLlrdxyCK8iY7Bn/Q9y5xlEPgoAVKxeHVvEJ3JFT6kVUZ7lX8UVHOQlYR7uTmjfuglcHR1gbmoEA309cPTYsPu3qr+sp70paZnl6F+I0l1HfYxH9KcE+Pu2xokLt6Xe19W7BeK+JONJ2Dux953q2EJXl4GfZwfI7dfh37GbmxmL3QsAkXJWHhT7nMgrs402q2xpj+TkZCQnJ+PNmzcS10qvGKBwoPrQ0dFBx44d4e7uLrNAYFpaGrZs2YLOnTujW7duNWq1CE3+iTpQCFCznDh/myb/hCjg1KW7OHH+NsYM9tP0ULQWBQAqZmJkKHcZvTyy9t6Xl693c/w6dxy8mrohNj4JkR8+ISE5Bcm8dOTk5YFfWAivpm4y7y99VJ8iVm09hM2/TEPkhzis234EfP5/TxMnDO+JCSN6YPK8DRL3GRlyoMdmoWv7FmX28eBZBDKzsv+799+VCOUJLrIqEMhoE6+WLfHm9SsUFBQo/bPlhQOlA4GSYQHRHnZ2dpg9ezaCg4Nx//59ietCoRBXrlzBmzdvEBAQAHNzcw2MUr1o8k/UiUKAmuFV5EdMXbhJ08MgROtMXbgJXs3cxY4KJ+VHAYCK5eTmaeT4iv7dvXFg83xcvP4QXj0D8TT8nUSb8cN6oH93b5X0v33/WRgbGmDhzJGYMqaP6AjC+s61YWpsiBmLt2L3Pxcl7svLK8DdR+EYOX2lwn0Wb2Pg6LHLbKtXjjbarJ5TPfz888+IiYlBYmIieDweEhMTweVykZycDD5fenHGyuJyueByuYiIiJC4RuGAdmEymRg0aBAaNWqEgwcPIidHMjSLi4vD2rVr0b9/f3h5eWlglOpBk3+iCRQCVH87DpxDdk71L0pMiLJl5+Thr4PnsH7xZE0PRStRAKBiCckpsLUyB0ePjdy8fLX1u/qnb3H3UTj6TVgss42RofSq38py73E4YuMTcebyfeTm5aOAX4jdRy7h4vWHSM/MlnpPIjcV9jYVW0qezCuqG+Bga4GPcQly21qYG8u9Xh2wWCy4uLjAxcVF7H2hUIj09HQkJSWBy+UiKSkJycnJonBAFasGANnhAIPBgLm5udRwoFatWtDV1VXJeEj5NGrUSG6BwLy8PBw6dAjh4eEYOnRotSsQSJN/oknFIcDDs1vh2cil7BuI1khJy8T2/Wc1PQxCtNb2/WexaOYomJsaaXooWocCABULffoGHD02OrX1rFAhwIpwcbSHc107/LbjqNx29Z0cVDYGC3MTHN+xFNMWbcaRMzfKfd/TsHcYM9gPhgYchbdOPH75FgDQoqkb7j5+JbdtYzcnhT67OtHR0YGpqSlMTU3h6uoqdq04HChe5l/6lyrCAYFAIDccMDMzk1p3wMLCgsIBNSkuEHj9+nVcuHBBaoHAly9fIiYmBgEBAahTp44GRql8NPknVYFAIERL/0A8OLMFXzV2LfsGohUu3Xik1gdDhFQ3uXn5uHTjEYb26ajpoWgdCgBU7ML1h/icyMOUMX3UFgDosVkA/isQKA1Hj43eXb9W2Ri6tG8ODoet0OQfAA4EX8HUgL4YN7Q7Nu2WfxRgabHxSXga/g4De3Yo897uHVsq9Nk1RclwoPTKAQASKwdK/jc/X/k/yAgEAvB4PPB4PLx9+1ZirNJWDhQHBBQOKJeOjg46deqEBg0aICgoCFwuV6JNWloaNm3aBF9fX3Tt2lWrCwTS5J9UJQKBEK16TaEQoBq5cOOhpodAiNa7cOMhBQAVQAGAiuXm5WP1tsNYv3gy/vftoDKfyivD2w+fkJqeCd92nvhj32mpbbYunw4WS3UTpIh3sTDg6GH+tBE4evYmuClFx/0JhUJkZuVIPXYQKCrsd/z8bSz+fjTuPX6FRy/eSm0ny8ZdJ7B73RxMGN4Tfx08J7XNuKHd4eZcW7EviAAATExMYGJiIjMckLZqgMvlIi9P+XschUKh3HCg5MqB0r8oHKi4kgUCQ0NDJa4LBAKEhITgzZs3GD16tFYWCKTJP6mKKASoXp6HR2l6CIRoPfp7VDEUAKjBxl0n0NjNEat/+hYtm7njj7/P4N7jcPALC1Hb1gotmrrBu6UHZv3yh1L64/MLsXXPKcyfNgIblgZic9BJRH6Ig4mRAXy9m2PG+AFgMHQwfvY6nAlappQ+S3v2Kgpzlm/H2gWT8IuUI/2+JPFw8/5LLN+0H2ER0WLXJs/fgDNByxFycDW2BJ3EoVPX8CryIwQCIUyNDdG8SX306NQS+hw9TFu4WezevUdD0OlrT2xZNg1NGjhhx4Fzos9v2tAZAYP9MHZodwyZ/AuO/rFIJV97TVUcDjg7O0tcy8jIEAUCpVcOqCocSElJQUpKCiIjI8WuFa9ysLKyonCgglgsFgYPHozGjRvLLBAYGxuLtWvXYtiwYWjSpIkGRlkxNPknVRmFANXHl6QUTQ+BEK1Hf48qhgIANZn04+8IffoGsyYNxtXDayAUCiEQCKGry0ABn49LNx4rtb+Fa4PAYDAwJaAvpgb0A59fCCZTF2kZWdhz5BLmr9oFEyMDpfZZzNTYEFuXT4enhyt+23EUkR/ikJNbNMnT0dGBoQEHDVzqYJB/B9w8th5dhs3Bk7D/TingpqSjy/A5mDdlOMYO7YZ5U4ejsFCAQoEAbBYThYUCPA1/h81BJ6X2P3bWGoRFRGP6uP6YGtAPBf9WvNdl6OLek1fo9s1cPHgWgQ+xX1Ty9RNJxsbGMDY2Rr169SSulQwHSv9SVTiQmpqK1NRUmeGArJUDTCb9k1lSeQoE7tmzB82bN8fAgQOhp6f+E1EUQZN/og0oBKgeUtPLPrKYECIfLzUDQqEQOjo6mh6KVtERCuXtFFev9gNmllm8rTpwdbKHq5MD9PRYSEpORcT7T6Il8spmaMBBK88GMDMxQhI3FY9fRoom46pyaf9KMBgM9ApYILfAjaODDe6d2og7D8Mw+LtfZLb7qrErattbQSAQICEpBe9jPoOXmlGusXg2ckEdB2vkF/AR8S4G0Z/knw5QXWS8OQ0D/ao92SqPjIwM0ekEpVcQ5OYqViSysnR0dGBiYiIqRFh6BUFNDgeEQqHcAoEAYG5ujtGjR1fZAoE0+SfahsHQoRBAi+k6+ml6CIRUC4UfL2l6CFqHAgCiVO1beeD6kd/Qeegc3Lj/vMz2h7cuQGN3J3j4TlDD6GqO6hIAyJOZmSlz5YCmwgFZKwdYLJZax6MpcXFx2Lt3r9QCgUDRqQ5du3aFr69vlSoQSJN/oq0oBNBeFAAQohwUACiu5j6yIirR2L1oiXfkh0/las9g6CA7R7UrEkj1ZGRkBCMjIzg5OUlcy8zMFKszUDIckLZfvbKEQiHS0tKQlpaGqCjxgjQlw4HilQMlVxBUp3DAwcEBs2fPxokTJ/DggeSpJwKBABcvXsSrV68QEBAAU1NTDYxSHE3+iTaj7QCEEEIURQEAUarirQweDeohPkH6U8Bi1hZm8GnTDAeCr6pjaKQGKQ4HHB0dJa5lZWXJXDmg7nAAgMyVA1ZWVloZDrBYLAwZMgQeHh5yCwSuWbMGQ4cO1WiBQJr8k+qAQgBCCCGKoC0ARKkMDTgIv7ITKWkZ6Dd+MT7GSd9z37ShM7av+h42VuZo03saEpKpiqcy1YQtAKqQnZ0tVmegZDiQnZ2t9vGYmJiIrRYo/t/aEg5kZGRgz549iI6OltnGy8sL/fv3V3uBQJr8k+qGtgNoF9oCQIhy0BYAxVEAQJSulac7/t44D7ZWtXD93nO8iYpBRmYOWCwmbK3M0aSBM1o0qY8rt59g8vwNNaYwnzpRAKB8xeGAtF+aCAeMjY1lrhxgs9lqH48sQqEQ165dw8WLF+UWCAwICICDgwPS09Px+PFjGBkZoVmzZir5WmjyX3NYW5jBq5k7UtMyasTPFxQCaA8KAAhRDgoAFEcBAFEJjh4bA3u2h0+bpqhrbw19fT3k5eUjiZuGV5EfcebyfTx/LXlsGFEOCgDUKzc3F0lJSVLDgaysLLWPx9jYWKzeQHEwYGlpqbGj+MpTINDX1xf37t1DZmbR8Vjm5uYYPHgw3NzclDYOdU/+TYwM4NnYBRbmpsjLL8DnBC6ev46CQFBlvvVWW80aOuPakXUwNTYEABw7dwtDJss+caa6oBBAO1AAQIhyUACgOAoACKmGKACoOmSFA1wuVzTRVScjIyOZKwdUHQ4UFBTILBAoi7m5OQIDA2Fubl7p/tU5+ffz8cKPgUPRzssDTKau2LXMrBzceRiGkyH3sP/EFWRmKb/2BAEWzRyFxd+PEr0uLBTAyL0X8gv4GhyVelAIUPVRAECIclAAoDgqAkgIISrE4XBQp04d1KlTR+JaXl6ezJUDqgoHMjMzkZmZKXVfvpGRkcRJBcX/5XA4le67ZIHAAwcOlOu4xpSUFGzdurXSIYA6J//zp43A0v+NAYOhI/W6kaE+unVsiW4dW8KzkQsmz98gdp3B0MHvSwKhx2YhPoGLpev3qWPY1c6XJJ7Y6+SUtBox+QeoMKCmxcbGIjg4GCkpKfjqq6/g5+ensdVXhBBSGq0AIKQaohUA2i8vL09UkFBd4YA8hoaGMlcOVCQcSEtLw759++QWCCypMisB1Dn579axJc4GLYOOjvTJf2mte0/Foxdvxd7r260tjm9fAgB4ExWLxp3HK3uYNQKTqYt1CyehrZcH0jOysOaPf3Dh+kNND0utaCWA+mVmZmLFihXIy/vviGNLS0tMmDABlpaWovdoBQAhykErABRHAQAh1RAFANVbfn6+zJUDGRkZah+PgYGBKAwouXLA2tpabjhQXCDwwoULEAgEZfZTkRBA3Xv+z+1Zjm4dW4peZ2TlYNveU3j2KgocPTYa1XdEh9ZN4dXUDaHPXsO7/0yJz/hn20IM7NkeAAUApPIoBFCvsLAwBAUFSbyvp6eHoUOHomnTpgAoAFCF5h6usLW2wLmroZoeClEjCgAUR1sACCFEy7DZbDg4OMDBwUHiWslwgMvligUFqgoHsrOzERMTg5iYGIlrxeGAtF8GBgbo3Lkz3N3dsWfPHvB4PCmf/h9FtwNootp/i6biBQsXrN6NzUHBEu0auNSBqYmhxPtuzrXRo1Mr0WtDfQ6G9uko1ubM5fvIypbcPmFvYwF/39Zwdy767PSMbLyJisG5qw8Q9yVZ6ng5emz07dZW9Drk5mPwUjPAZjHRx68tWnm6w8zECNyUdIQ+fYNzV0PFltHXr+eA/t294VTbBkKhEB9iv+BUyD28ff9Jan/dO7YUfd0vXr3H63dFf2a8W3rAz8cLtlbmyMjMwavIjzhx4TZ4qf/9ma1lZozBvXzQ0LUu9DlsfE7k4crtJ7j1IExqX061bdC6eUPR68ysHJy9Ij4xaOXpjnp17QAA8V+SRZ/lYGuJAT284epkD44eG/EJXFy68Rj3nsh/SMFmMdGzc2t4NXWDZS1TCAQCJHJTEf0pATm5eWJtBQIhjpy5IffzlIG2A6gXny99m0leXh727t2L9u3bo1evXmoelfbi6LHh2cgF1lbmYOjoICUtE68io5HETZNoO2awH/x921AAQEgZaAUAIdUQrQAg0hQUFCAxMVEsHCj+ryZWDnA4HFhbW8PCwgJ6enq4f/9+ue4zNzfHxIkTYWVlJbONpo76y3p7Bhy9/44u7DpiLq7eeVrmfRw9NuYGDsWsiYNhaCB/S4VbhwBEfYwXvdbn6GHNTxMxdmg3sb6L5ebl46+D5zBn2XaJPfB21rXw6eEh0espCzbhycu32LN+Ltyca0t81puoWIyctgLPX0fht0WTETi6D3R1GWJtCvh8/Lb9KOav2iVxf/jVnWjgUlQP49DJa5i5dCv2rp8LPx8vibYpaZmYunATDp28hrFDumHdou9EFf1LOnslFKNmrERahviJG2MG+2HX2tmi1zHxiaj39UixNjvXzELAkG4AgOhPCXBpNwpLZ43BnO+GQI/Nkujr5MW7GDtrjURfADCsbyes+Wki7G0sJK5JU1goANu5e7naKgOtBFCPhw8f4vDhw3Lb1K1bF4u2XURGdoGaRqV9BvRoj+9G+sO7VROJv4tCoRBvP8Th7JX7WLPtHyRyUwEAG5YGwt+3DVy9R2tiyERDaAWA4qrUCgBDQ31ND4GQaoHF0i27EalxWCyWzJUDxeEAl8sVO6kgKSkJ6enpKhlPbm6uzJUD8pRcCSAtBNDU5B8AErmpqGtvLXo9Y1x/3H7wsszic2OHdsOimaPktpGGo8fGxf0r0c6rsdw2UwP6wa1ebfgH/CT3CMIR/Tpj3pThqG1nKfV6A5c6OLxtAW6FvhRNnEtjMZmYGzgMH2K/YMeBczL76tTOE4e3LoBPm2ZSr5ubGmHnmlloXN8RcwOHSQQNxfx9W2PTL1MxeuYqmX2Vh1NtG+z9fS6+6e8rs03fbm3xZ8FMDJuyXOz9Ib19sHf9XLExFj9fkVUPIjNbvac/lLUSgMfjISUlBQBgb28PfX36mUxVYmJiMLKrG07fjcanJPUfFVuV2VnXwu51c9C1QwvceRSOeSt34vrdZ6JVNHXsreHVzA09O7XCYH8fLNuwX9NDJkTrVKkAwNrCTNNDIKRaYDGr1F9togXKCgdKbytQdThQloyMDKkhgCYn/wBw7c4zjBn8397eXl3a4P7pzVi8bg9Oh9yTeV9GZg4+xH6BkYE+rCxMRe/nF/Allu8XlAgTVs2fIDb5LywU4OjZm3gTFQtXJ3sM7uUDNqvo3wM/Hy/M+W4oVm09BFlKflb0pwQUFhaiXh07sRMNXBzt4eJoDwDIzsnD+5jPqOtgDRMjA7HPmjKmr9wAwMbSHDaWRVs5knlpSOKlwcXRXjReoCi8mD9thOhri4yOg6mxIeysa4l91pDePvhxxV+IT+DK7K88iif/BXw+Ij/EwczESOKJ/sCeHdC04UG8eP1e9N6KHyeITf637DkpOr3h51lj8N2o3qJrb99/wvTFW3Dj3vNKjbUipIUAPB4PQUFBiI+PL+Nu+VxcXBRqr6+vD3t7e5XfY25ujlq1apXdUElkbQEojcPWxSAfZ9wJ+4KHb5JUPCrtYGNpjsuH1sDB1hKjZqzEgeCrEm2iPsYj6mM8Dp+6DiZTF3x+oQZGSoh2q1KzBGtLCgAIqaz69SQncIRUBovFgr29vdQfvPl8PpKSksDj8SS2F6SlSe7RVKaMjAxs3rwZU6dOhZWVlcYn/wDw6+YD6N/DW2wy3KyhM4L/WoqHzyPw6+aDOHXprsR9fx+/jL+PX8aUMX2x8ecpovffx3yWWQTQxtIc44f1EHtv/Jx12HcsRPT66LlbOL59segpdODoPnIDAKAodBg9c5Vof/rQPh1xYNN8iXbX7j7D8KnLkcRNg4mRAc7sWS4WIDSq7whTY0Opy+VL+m3HUcz9dQcEAiE83J1w+eAasRAEAGLjk9B33EI8/3fS/fuSQEwb2090ncVkol1LD6XsqX/4PAJDJy/Dx7gEAMDsSYOxav63ousMhg66tm8hCgC+auwKp9o2ouufE3n4389/iCYm3y/dhoE9O4i+Jqc6tgh780FjRxKWDgHCw8MrPfkHgKioKIXvCQuTXr9B0yqyAqI4AFFkRZOOjg68m9ihtpURzofGIDe/Zk9md6+bDUcHa3QfOQ+3H5b9Z4Mm/4RUTJUKAL5u3gjrcUzTwyBEq3Vq66npIZAahMlkws7ODnZ2dmjcWHwZOp/Pl3pSQXJyMtLS0qCMEjRZWVkIDQ2FrqG1xif/APAuOh7fTFuBA5vnw7jUtraWzdxxYscSXL3zFNMWbsabqNhK9TWwZ3voc/6r9fH6XYzY5B8ATl26i0cv3qJlM3cAQG07S3zV2BVPw9/J/NzDp66JTaQPn7qO/307CF4lChwWFgowYc46USGu9MxsrP3ziFgAoKvLQG07S7kBQOSHOMxZtl30OiwiGodPX8PUgH5i7Zas3yua/APA0vV7MWF4D7Gvv/SqgIoQCoWYMGedaPIPAGv/PILJo/uITfLr2P+36sTeVnyFwIfYL2ITk/wCPqI/fREFAGwWE43cnPA5UX7RS1UqGQJU1Um4JlUkEKlIAFLMydYYI7u6Yd+lt8grqJmT2oE926Nbx5b4ccVf5Zr8lxdHj43adpbg6LERG59UZiBZEpOpCwcbSzCZuoj7kozcvHyF+7e2MIOtdS1kZuXgfcxnhcbtVNsGbDYLcV+SwU3RzGo7Uj1VqQCgc7uvND0EQrRe/27tND0EQgAUhQO2trawtbWVev3Lly/g8XhISEhASEgI8vMV/+EKAK5fv47gu5V/gqks566Gol2/6dj481R0/Fpyf3vndl/h1vHfMTRwWbkKBMriVerEgdy8fMwYP0CiXek96PWdHeQGAJdvS44pKjperL+wt9GI/pQg1ubFK8kJUMkJujQ3Q19IvFc6GBEKhTh58Y7YeylpmYhP4Iq2IgCQWgBRUW8/xCEsIlri/ajoOLEAoGRfXJ74D+ZmUk53MClVvDC31IkAmiAQCDHw26XYveLbSk1eiXIYG7DgZGuMiNhUTQ9FI6aM6Yv4BC427Dxeqc8pPlLW37c1Zk8agq9bNBRti+TzC3H/6WssWL1L5ukhde2tMX54D3Tv2BIe7k6iv+t5+QW4/eAl5q3ciccvIyXuY7OYiLgZhOGByxEVE48l349GH7+2YluIErmp2Hs0BAvX7Ja5AsjF0R4rfhyPHp1agcHQAVNXFwwGA58TuSgsdVxuu34zKr3tidRMVSoAMDc1Qr9u7RBc6hs9IaR8HB1spFbTJqQqKg4H6tevj/Pnz1fqs45v/wndx/yMhOQUJY2ucsLffoTvsDno3rEl5k8bIVGkr5aZMQ5uno/mPSbLPKKvLLZW4kchftXYtVwV3qVV0i8pKloyTMnIyhZ7HfdZcs9yySP7ipWsHSBN6RABANIzxPvipWYgJS1Tol1mqaMQZRXbU0S0jCd0pZ8aluzq+ev3SOalwbJW0RP+hq514efjhUs3HgEoqr3gVmJrVnpmNp6EyQ5g1MWptg1ehOwAQ0eI1NQUsafecXFxyM2VPGqSqJaxgeTJEzWBlYUp2nk1xh9/n6701pj8Aj5mTRyMBTO+wd6jl7Bq6yFEx36Bjo4Omjepj5kTBuL8vhXwGzFX6slj08f1x5DePjh69iaWrt+HN+9iwOcXoqWnO36a/g0uHVgF7/4zRUeYFmMwGKhrb422Xo1xYMt8JCSlYtnG/Xj0PAKp6Vmws66FPn5fY9rYfnBxtMOgST9L9N2oviMuH1qN15Ex6PZN0fg4emw093DFopmj0LVDCyxcG4Qb956Dl5qBL0maW0VEtFuVCgAAYMWP4ykAIKSCVvwofa8wIVVZUlKS6KlNRejq6qKpR2O8CNmOpl0nVpkQAAAuXH+IC9cfomfn1li7cBLcSxytZ1nLFFMD+mLeyp0V+mx9ffnHBcrCYEivpl+sPEtkK7IUVpqMzOwy2+Tlq++otIwsxSvz5+TmYdPuYCydNQZAURBxYscS3Ap9CQBo37qJWDixbe8p5Gh4BUDx5L/4yMm+fftW+jMVXUWQk5Oj8FL7kicVlJe2hBkCgRBvY1VbN6Wq8m7ZBEymLu48Cq/0Z9nbWOCHyUPQZdgciSf1r9/FIPjiHYSe3oyfZwegy/AfJO5fvmk/5q/aKRFExMQn4trdZ3gRsgPzpg6XeerI8rnjcOjkNYyfs1bsxJWoj/G4/TAMb9/H4c+VM9GprSeu3X0mdu/6xZPxOZGHHqPmifrPzcvH3cev0H3UPFzavxK9fNvg100HKvR7Q0ixKhcAuDnXxvRx/bFx1wlND4UQrdLOqzGG9umo6WEQojAer+JPMXR1dTFx4kQARRPqqhgCAEXbAm4/eImr/6wVe0rfVs7xfWXJLPVU/taDMLknDRS7L+WpV0mVCWMUJe9IQk2oaF2KZRv3w8TYANPH9QeLyQRHj42uHVpIfHbQkUtYsGa3MoZaYaUn/8qi6CkAAODh4aHUMShLfHw8cnIUC4OKA5CoqCiFw5CElBycu/8R6dnKCda0TXHx4jfvKlcXBSha4bTkt71Sl+kDQFZ2LnYeOo9f546HoQEHWaVWEklbbVSMl5qBY+duoo9fW5lt0jOyMHXhJpn/tu06fB6Lvx+FXr5txAIAKwtTdGrriZlLtspcBbHj4Hkc2vITnGrbSF09RUh5VbkAAChKwJ68jFRqERBCqrM69lY4tn2JpodBSIUkJiYqfA+TyUTHjh3RpUsXMEsce1mVQ4D0zGwcOHFVLAAoazm+PDFx4r9v+fn5WLf9SIU/j1RObHwSCgoKwWIywUvNAJOpi4ICPhKSU/DkZSSCjlySeOKnbqqa/Fc3ih41CPwXgJw9e1ahAOBxRBJuh32pcmGYOhWfmpKQpJx/s6UdH1jSs/AosFlMuDraixUXLY+Xb6IxaWQvmddDbj2WCBVKEgiEiIiKhVMdG7H3nevaQVeXgYj3n2Te+/5j0YoZFycHCgBIpVTJAAAATvy1FB0Gfi+xx4YQIs7MxAindy+TODaLEG2haADg7u6OAQMGwMLCQup1TYUA3i09MH5YD2zffxb3nkh/yt6kQT2x18k88SW/BaXOEDfQl11E70boC7Hz5b1bNSmzwj9RjRH9OuP3JYEAigp9NfAZq1C1cXWgyb968Pnl28OencvHhQex+JggWTujpikubldWzZDySE3PRNRH+VtL0tKLnvKbGBvIbSdNRlY2WEwm2Cym1Cf1ryPLnrdkZuXAyED8lJjkf4uJljxCtrTa/54+kpJKJwKQyqmyAUAtM2PcCd4A/9E/yfxBipCazrmuHS7uXwnnunaaHgohFWZoWL6n4BYWFujbty8aNWpUZltNhAAGBhyMHtQVowd1xdv3n3Dt7jM8f/0eicmpMDbSRxfv5hjRr7PYPbcevBR7XXysXrG69tb4ccowHDhxFeamRmj1VQPcfRSO8LcfEXzhDj7GJcDRoehJkh6bhcPbFmDG4q04f+2B6DMszE3QtUMLDOzhjVeRMVi8bo+Kfgdqrm4liq8acPQwamBXPH/1TlS/oLBQgPTMbER9jNfIk16a/Fctbm5umLUuGNm5lSt4V12kpReFZRbmJpU+HrM8wVvxTh95hUM93J3QvnUTuDo6wNzUCAb6euDosWH3b1V/WbVU5G0h+K9/IUp3HfUxHtGfEuDv2xonLtyWel9X7xaI+5JcJYqIEu1WZQMAoGhp5O0Tv2Pp+n1Yve2w0ooOEVIdTBrZC8vmjEUtM2NND4WQCnvx4gWePpV/FB6LxULnzp3RqVMnseX+ZdHkdgA359pwK1HwT5rPiTxsDjop9t7dR+HIL+CDzfrv61z+wzgs/2Gc6PWAiUsQ/vYj8gv4+GH5DhzYNB+6ukU/jLo42uNM0DJk5+QhITkFhgYcWNUyFf2g+yGWtgiowrNXURg5oAsAwMhQHxuWBkptl5Wdi5Bbj7Fg9W61rXCkyb96yVsBoKurix49esDHxweTlx9V46iqtk9fik4VcXOuI/UYTkVUNmDz9W6OX+eOg1dTN8TGJyHywyckJKcgmZeOnLw88AsLJY5gLan0UX2KWLX1EDb/Mg2RH+KwbvsR8PmFomsThvfEhBE9MHnehgp/PiHFqnQAUGzx96Pw3aheWPvHERw/f4v2vZAay9aqFvp1b4cZ4/qXObkgpCpLSkrCsWPH8O6d/CcZHh4e6NevH8zMzCrUT1WtCfAliYdBE5eCmyK+lDMhOQUHg69izGC/cn3O0bM3YW1hhjULJoqdTW+gr4d6dWyVOmYi24adx9G0gTNGD+oqt52hAQf9urVDW6/G8O4/s8ylypVFk3/1KyiQfmqFhYUFRo0ahdq16Xt3abdCX0IoFKL1Vw1w/PwtjY2jf3dvHNg8HxevP4RXz0Cp26nGD+uB/t29VdL/9v1nYWxogIUzR2LKmD6iIwjrO9eGqbEhZizeit3/XFRJ36Rm0YoAAABsLM2xZsFErFkwEdk5ecjOyUV+AR8FfD4qWLSXEK3AYuqCzWJBn8OGkaF+2TcQUoXl5eUhJCQEt27dQmFhocx2FhYWGDBgANzd3Svdp7pCgDsPwzBj8VYM8u+Als3cxCbkxeITuDh+/haWbzyARG6q1M+ZtmgzAGB4v85iKwGAomOs4j4ni723de8phD59jR8mD4Wfj5fUPaTJvDSE3HqMg8HXKvrlERlMjQ3x26LvMKBH+ScF1hZmmD1pMCbPV93TPJr8a4ajoyMePXok9l6LFi0wYMAA6OnJrulRk31O5OHFmw/o160d5v66Q2PjWP3Tt7j7KBz9JiyW2UbVP4fdexyO2PhEnLl8H7l5+SjgF2L3kUu4eP0h0stxbCoh5aEjrOiZN4QQQogCnj59itOnTyM9XXYBIzabjS5dusDHxwe6urpK7T+Zl6a2lQBsFhMe7k6ws7EAR4+NjKwcvP8Yj3fR5X/ia25qhBZN3WBiZAhuSjqiY7/gY5z8FXBMpi48G7nAxsocemw2snJy8TH2C95++FSjq4yr0u0Tv+Pr5kV1KXJy87BlzyncDH2BjH9/WNfTY8POuhYG9ewAf9/WovsePo9Amz7TVDImmvxrTkFBAS5duoQ7d+7A1tYW7dq1Q4sWLSTa6TqWb5VPTTE1oB82LA1EwP/WYN+xkAp9xoalgfD3bQNX79Fy233V2BWPzm1FpyGzcDO0qA6Li6M93t4MwtSFm7Bt72mZ927+ZRomj+4NQ7deYluTOXpsZL09g8CfNuLPv8/I7f/EjiUwNODA75sfxd63MDdB+JWdmLZoM46cuVHWl0v+VfjxkqaHoHW0ZgUAIYQQ7ZSQkIAjR44gOjpabjtPT0/06dMHJiYmKhmHOrcD5Bfwiwo1VaJYU0paJi7feqLQPXx+IR69eFvhPolienf9WjT5B4BFa/fgtx3S93b/ffwyeGHBMP73CaKsImKVRZN/zWKxWPD394e/v7+mh6JVdh46j29H9MSanybi/pNXiPwQp9b+9dgsAJC7qpijx0bvrl+rbAxd2jcHh8OmyT9ROdV89yGEEFLj5ebmIjg4GOvWrZM7+bexsUFgYCBGjhypssl/seIQwMbSXKX9kJqhvpOD2Ov4RK7Mtl5N3WDA+W8J+DsVTHBo8k+0VU5uHsbNWgMmUxeXD65Bh9ZN1Nr/2w+fkJqeCd92njLbbF0+HSyWclemlRTxLhYGHD3MnzYCbs61YWFuAgtzE9QyM5bYDkZIZdCfJkIIIUolFArx6NEjnD17FpmZso9E4nA48PPzg7e3t8qehkpTVQsDEu1TekvGyh8ngMVk4vq9Z0jmpcPG0gyu9Rzg37k1xgz2E53WIBAIsfPwBaWOhSb/RNs9fhmJbt/MxT9/LMKVQ2tx/toDnLx0F6FPX+NzIg8Mhg6sapmhjoM1Wns2QPSnL9h7tGLbBUrj8wuxdc8pzJ82AhuWBmJz0ElEfoiDiZEBfL2bY8b4AWAwdDB+9jqcCVqmlD5Le/YqCnOWb8faBZPwy+wAietfkni4ef8llm/aX+nTEkjNRgEAIYQQpYmLi8OxY8cQEyP7iDMdHR00b94cvXr1grGxZo6xpBCAKMPpkHt4/S4GDV3rAgDq2Fsh6Lc5cu8RCoX4dfMBXLmt2PYOeWjyT6qLxy8j0bTrt/jft4MwpLcP/lw5U3SMaTGBQIh30XFY+6dyjzVduDYIDAYDUwL6YmpAP/D5hWAydZGWkYU9Ry5h/qpdUousKoOpsSG2Lp8OTw9X/LbjKCI/xCEnNw9A0fdMQwMOGrjUwSD/Drh5bD26DJtTtM2MkAqgIoCEEEIqLScnB+fOncP9+/ch79uKnZ0dBg4cCCcnJ/UNTg51FgYk1ZOrkz12//YD2rZoVGbbN1Gx+Pn3fTh86rrS+qfJv3aiIoDlU9feGvXq2sHC3ARZOblISU1HdGyCzFNUlMHQgINWng1gZmKEJG4qHr+MFE3GVeXS/pVgMBjoFbBArLhgaY4ONrh3aiPuPAzD4O9+UemYtAUVAVQcBQCEEEIqTCgU4v79+zh//jyys2UfUaSvr4/u3bujbdu2Ek9zNI1CAKIMndp6opuPF9zq1YaZqSEYDF3k5OQikZuKt+8/4eqdZ7j35JVS+6TJv/aiAIAUa9/KA9eP/IbOQ+fgxv3nZbY/vHUBGrs7wcN3ghpGV/VRAKA42gJACCGkQmJiYnDs2DHExckuZqajo4NWrVrB398fBgaqWTpZWbQdgCjDtbvPcO3uM7X1R5N/QqqHxu71AACRHz6Vqz2DoYPsHNWuSCDVGwUAhBBCFJKZmYmzZ8/i0aNHcpf7Ozg4YMiQIXBwcJDZpqqgEIBoE5r8E1J9cFPSAQAeDeohPkH2SSIAYG1hBp82zXAg+Ko6hkaqKdoCQAghpFwEAgHu3r2LixcvIicnR2Y7Q0ND9OzZE61atapyy/3LQtsBSFVHk//qgbYAkGKGBhyEX9mJlLQM9Bu/WOJ0kWJNGzpj+6rvYWNljja9p9H3qX/RFgDFUQBACCGkTNHR0Thy5AgSEqT/YAIADAYDbdq0QY8ePaCvr6/G0SkXhQCkqqLJf/VBAQApqZWnO/7eOA+2VrVw/d5zvImKQUZmDlgsJmytzNGkgTNaNKmPK7efYPL8DYj+JPt7cU1DAYDiKAAghBAiU0ZGBk6dOoWnT5/Kbefk5ISBAwfCzs5OTSNTLQoBSFVDk//qhQIAUhpHj42BPdvDp01T1LW3hr6+HvLy8pHETcOryI84c/k+nr9+r+lhVjkUACiOAgBCCCESBAIBbt68iZCQEOTlyS42ZGxsDH9/f3h5ealxdOpBIQCpKmjyX/1QAECIclAAoDgKAAghhIh59+4djh07hqSkJJltGAwGvL294efnBw6n+k5KKAQgmkaT/+qJAgBClIMCAMVRAEAIIQQAkJqailOnTuHFixdy2zk7O2PgwIGwsbFR08g0i0IAoik0+a++KAAgRDkoAFAcBQCEEFLDFRYW4vr167h8+TIKCgpktjM1NUXv3r3h6empxtFVDRQCEHWjyX/1RgEAIcpBAYDiKAAghJAaLCIiAsePHweXK/vsYV1dXXTo0AF+fn5gsVhqHF3VQiEAURea/Fd/FAAQohwUACiOAgBCCKmBeDweTp48ifDwcLntXF1dMXjwYFhYWKhpZFUbhQBE1Rq41MGDM1to8l/NUQBAiHJQAKA4pqYHQAghRH34fD6uXLmCa9eugc/ny2xnbm6Ovn37wsPDQ42jq/osa5niRch2CgGISjRwqYPH57eBo8fW9FCIijk62OBjHJ3lTkhlODrUjFpEykYBACGE1BBhYWE4deoUeDyezDZMJhOdOnWCr68vmEz6FiENhQBEFWjyX7PYWptTAEBIJdlam2t6CFrp/wAAAP//7NxrTN33fcfxzzmAOSZgEyghhJZQgstGXF9i7GA8gx1MzC2Y8penTKuWae20LtK0VrtVjZQ86INNi3ZRu1ZTpbXVHmxZ3D+KMWCwHWLiEBwbbOzZzlgcRFgIoQTbXMxlHM7ZgyzqJf6fYMP5X855vx5/H3ye2DqfD79z+HQHADFucnJSzc3NGhwcjHhXXFysxsZGZWRk2JTMuxgBsJYo//Fna/EjeuvifzkdA/C0rcWPOB3Bk/gNAACIUUtLSzp58qS6u7u1vLxseZeZmammpiYVFRXZmC428JsAWC3Kf3zqPH1etc8853QMwNO6/uNFVZRudTqG5zAAAEAMGhgY0LFjxzQ1NWV5k5SUpMrKSu3fv18JCQk2postjAC4V5T/+JZb8rQ+nLD+ShYAaw9mZWi07yWnY3gSXwEAgBgyPj4u0zQ1NDQU8W7Lli1qaGhQenq6TcliF18HwL2g/OP5b35Vzz73PadjAJ70/De/6nQEz+IFAADEgMXFRXV2duqNN95QKBSyvMvKypJhGCosLLQxXXzgJQBWivKPT+yo+WMNXHvX6RiAp2z9zQJd6Phnp2N4FgMAAHhcf3+/WltbNTMzY3mTnJysqqoqlZeXy+/325guvjAC4LNQ/vHLBofe1+6GP9HUzG2nowCekJW5Ua//7B/0pYLPOx3FsxgAAMCjxsbGZJqmhoeHI95t375dDQ0NSktLsydYnGMEgBXKP+7kRHefan7vO07HADzh1Zde1L7d/PDfajAAAIDHzM/Pq6OjQ729vRGf+2dnZ8swDBUUFNiYDhIjAD6N8o9Ius9e1le+/gIvAQALG9PuU8tPvqvf2rnZ6SiexwAAAB4RDod17tw5tbe36/Zt6w+JgUBA1dXVKisr47m/gxgB8AnKP1biyuCw/uDPXlT/f77jdBTAVXZ8eZN+/Hd/oc1F+U5HiQkMAADgAaOjo3r55Zc1OjpqeePz+VRSUqK6ujqlpqbamA5WGAFA+cfdOtLarb/5wUv8OCDi3rbiR/RXzz6t336qwukoMYUBAABcbG5uTm1tbTp37pwi/Xedm5srwzCUl5dnYzqsBCNA/KL8YzVuTc9q8N33NfbzSX348xsa/+iW05GAqMr+XLoefCBDOQ9kquiRzyt9A3/MiAYGAABwoXA4rN7eXh0/flzz8/OWdykpKaqpqVFpaal8Pp+NCXE3GAHiD+UfAOBGDAAA4DLDw8MyTVNjY2OWNz6fT6WlpaqpqVFKSoqN6XCvJm9O68sH/pARIA5Q/gEAbsUAAAAuMTs7q9bWVvX390d87p+XlyfDMJSbm2tjOqyFm1OzevSJrzECxDDKPwDAzRgAAMBhoVBIPT096uzs1MLCguVdamqq6urqVFJSwnN/D2MEiF2UfwCA2zEAAICDhoaGZJqmxsfHLW/8fr/KyspUXV2tQCBgYzpECyNA7KH8AwC8gAEAABwwPT2tlpYWDQwMRLzLz8/X4cOHlZ2dbVMy2IURIHZQ/gEAXsEAAAA2Wl5e1uuvv65Tp05pcXHR8m7Dhg2qr6/XY489ZmM62I0RwPso/wAAL2EAAACbXL9+XUeOHNHk5KTlTUJCgvbu3auqqiolJyfbmA5OYQTwLso/AMBrGAAAIMpu3bqlV155RVeuXIl4V1hYKMMwlJWVZVMyuAUjgPdQ/gEAXsQAAABREgwG9dprr6mrq0tLS0uWd+np6WpoaNCWLVtsTAe3YQTwDso/AMCrGAAAIAquXbumo0ePRnzun5iYqIqKCh04cEBJSUk2poNbMQK4H+UfAOBlDAAAsIYmJyfV3NyswcHBiHdFRUVqampSZmamTcngFYwA7lW86WGdb/sB5R8A4FkMAACwBoLBoE6dOqXTp08rGAxa3mVkZOjQoUN69NFHbUwHr2EEcJ/iTQ+rr/2HSl7Hax0AgHcxAADAKl2+fFktLS26deuW5U1SUpKeeOIJ7d+/X4mJiTamg1cxArgH5R8AECsYAADgHk1MTMg0TV2/fj3i3ebNm9XY2Kj09HSbkiFWMAI4j/IPAIglDAAAcJcWFxd18uRJnTlzRsvLy5Z3mZmZampqUlFRkY3pEGsYAZxD+QcAxBoGAAC4CxcvXtSxY8c0PT1tebNu3TodOHBAFRUVSkhIsDEdYhUjgP0o/wCAWMQAAAArMD4+LtM0NTQ0FPFu69atOnTokDZs2GBTMsQLRgD7UP4BALGKAQAAIlhYWFBHR4fefPNNhUIhy7vs7GwZhqGCggIb0yHeMAJEH+UfABDLGAAA4A7C4bD6+vrU1tam2dlZy7tAIKCqqirt3btXfr/fxoSIV4wA0UP5BwDEOgYAAPg1o6OjMk1TIyMjEe927Nih+vp6paWl2ZQM+BgjwNqj/AMA4gEDAAD8v/n5ebW3t+vs2bOK9F9jTk6ODMNQfn6+feGAX8MIsHYo/wCAeMEAACDuhcNhnT17VsePH9fc3Jzl3fr161VdXa2ysjL5fD4bEwJ3xgiwepR/AEA8YQAAENdGRkZkmqZGR0ctb3w+n3bu3Kn6+nqlpKTYmA74bIwA947yDwCINwwAAOLS7Oys2tra1NfXF/G5f25urgzDUF5eno3pgLvDCHD3KP8AgHjEAAAgroTDYfX09Kizs1Pz8/OWd/fdd59qa2u1a9cunvvDExgBVo7yDwCIVwwAAOLG8PCwTNPU2NiY5Y3P59Pu3btVU1Oj9evX25gOWD1GgM9G+QcAxDPPDQC3pmfVc/6q3hsd182pWd2cmtHycsjpWEBU+Hw+bUhNUUZ6mnIf/Jx2bfsNfeGhLKdjec7MzIyOHTumCxcuRLzLz8+XYRjKycmxKRmw9hgBrFH+AQDxzjMDQNurb+mv/+nf1XvhmtNRAEdt+mKu/vyPDuvrv1PrdBTXC4VCOnPmjE6cOKHFxUXLu7S0NNXV1amkpMTGdED0MAJ8GuUfAAAPDACjH36kZ771t3rtzQGnowCusumLufrXf/y2dm0rcjqKK12/fl2maWpiYsLyxu/3a8+ePTp48KACgYCN6YDoYwT4Bco/AAAfc/UAcO2d93Tg6b/kwwtgIZC8TuaPXlD1vp1OR3GN6elpHT16VJcuXYp4V1BQIMMwlJ2dbVMywH6MAJR/AAB+mWsHgEtvD6nC+JZmblv/SjeAj5k/ekGNB/c4HcNRy8vLOn36tE6dOqWlpSXLu40bN+qpp57Stm3bbEwHOCeeRwDKPwAAv8qVA8DE5JR21j+r//nA+ukugF9YH0jW2Zbva3NRvtNRHDE4OKjm5mZNTk5a3iQkJKi8vFxPPvmkkpIoA4gv8TgCUP4BAPg0Vw4AT/7ut/XqG5F/rRvAryrMf0iD3T91Ooatbty4oaNHj+rq1asR7woLC3X48GFlZmbalAxwn3gaASj/AADcmesGgM7T51X7zHNOxwA86e+f/4b+9GtNTseIumAwqK6uLnV1dSkYDFre3X///Tp06JA2b95sYzrAveJhBKD8AwBgzXUDwPbqb+jy20NOxwA8KSM9TROXTKdjRNWVK1fU0tKiGzduWN4kJiZq//79qqysVGJioo3pAPeL5RGA8g8AQGSuGgDefe8Dfan8952OAXhay4+/q7rKx52OseYmJyfV3NyswcHBiHfFxcVqbGxURkaGTckA74nFEYDyDwDAZ3PVn8Y6u/ucjgB43iudPTE1ACwtLenkyZPq7u7W8vKy5V1GRoYMw1BRUZGN6QBvun9jqq52/UvMjACUfwAAVsZVAwBP/4HVe+vi205HWDOXLl1SS0uLpqamLG+SkpJUWVmpffv28dwfuAuxMgJQ/gEAWDlXfVr+6Ma00xEAzxsa+dDpCKs2MTGhI0eOaGgo8ii4ZcsWNTQ0KD093aZkQGzx+ghA+QcA4O64agCYvGn9Vz4AKzO/sKj/XQpqXZKr/nmvyOLiok6cOKEzZ84oFApZ3mVlZckwDBUWFtqYDohNXh0BKP8AANw9VzWEYND6+70AVi4YXPbcANDf36/W1lbNzMxY3iQnJ6uqqkrl5eXy+/02pgNim9dGAMo/AAD3xlsNAUDMGRsbk2maGh4ejni3fft2NTQ0KC0tzZ5gQJzxyghA+QcA4N4xAABwxPz8vDo6OtTb2xvxuX92drYMw1BBQYGN6YD45PYRgPIPAMDqMAAAsFU4HNb58+fV3t6u2dlZy7tAIKCDBw9qz549PPcHbOTWEYDyDwDA6jEAALDN6OioTNPUyMiI5Y3P51NJSYnq6uqUmppqYzoAn3DbCED5BwBgbTAAAIi6ubk5tbW16dy5cwqHw5Z3ubm5MgxDeXl5NqYDcCduGQEo/wAArB0GAABREw6H1dvbq+PHj2t+ft7yLiUlRTU1NSotLZXP57MxIYBInB4BKP8AAKwtBgAAUTE8PCzTNDU2NmZ54/P59Pjjj6u2tlYpKSk2pgOwUk6NAJR/AADWHgMAgDU1Ozur1tZW9ff3R3zun5eXJ8MwlJuba2M6APfC7hGA8g8AQHQwAABYE6FQSD09Pers7NTCwoLlXWpqqmpra7Vz506e+wMeYtcIQPkHACB6GAA8zu/36XB9hfou/bfefe8Dp+MgTg0NDck0TY2Pj1ve+P1+lZWVqbq6WoFAwMZ0ANZKtEcAyj8AANHFAOBCfr9PxZse1hceekDrA8mauT2nd4be1/D7ny5X65KS9G/f/46efe57DACw3fT0tFpaWjQwMBDxLj8/X4ZhKCcnx6ZkAKIlWiMA5R8AgOj7PwAAAP//7N1neFTVosbxN5k00guhRUro0kKTHkGCESHSERU9gAoeuSAgIkgRxXoFK2BF8YDiUQjSRJBQIkVqUHoJvcQkpCcQJJm5HxSvmEwoJrMnmf/v4+y19n6TJzwP652916YAsCMtm9TVmMf76p5OdyjAr+D7zxOSUrV2U5zembNYu/fHG5AQ+J3ZbFZsbKxiYmJ0+fJlq+N8fX0VFRWl5s2b2zAdgJJW3CUAi38AAGyDAsAOODs7acbkJzRicC+dPp+kWZ8v0Zofdyn+5Hklp6arYvkAhTWopbvDW6h/1J2aFx1jdGQ4sPj4eEVHRys5OdnqGJPJpA4dOigyMlLu7u42TAfAVoqrBGDxDwCA7VAA2IGvZk1S327hmv7hN3rx7fnKvfzbNccTklKVkJSqVRt2aPxrnygvL9+gpHBk6enpWrp0qfbu3VvkuNq1a6tv374KDg62UTIARvmnJQCLfwAAbIsCwGCTRj6kft3v1LiXP9Zbnyy67ngW/7C1vLw8rV+/XuvWrdOVK1esjvP399d9992nsLAwG6YDYLRbLQFY/AMAYHsUAAaqWiVYzz45QCtitt7Q4v9mVAjyV6UKgcrOuaTjpxNuam6gv4/KB/opIzPnlr7R8fPxUkil8jKbzTp+OkG/Xcm74bk1q1WWr7enklMzdO7XCzd1XRcXk6qHVJSbq4tOnk3UpVzrz6bjxhw4cEBLly5VSkqK1TEmk0mdOnVSly5d5OrKf+QBR3SzJQCLfwAAjEEBYKAnBkbJy9ND096Z/4/PZTab5efjpWnPDFLvrh0UUqn8n8eSUtI1b9EaTZk+1+pivNc97fVAj05qf0cjVakY9OfnZ84n69P/fq9XZn4ps9lSYN6yz17Sui27NevzpRo7rL8G9o5Qw7rV/zyeczFX36/frmde/khnzhf+zLiXp4emjR2sgb0jFODnrbz8fHm4uykpJb3A4xATXpujr5dtuOazujVv07Sxg9T1rlby8SonSbqUe1mrNuzQc69/qqMnzhX9y0MBqampio6O1uHDh4scV69ePfXp00dBQUFFjgNQ9t1oCcDiHwAA41AAGKhbRGvF7YvXrr1H//G53N3ctHXZTKVn5uiVmQu085fDSs/MUeUKgeoR2VYjh/RSreqV1e+JaQXmBgf5ae5b47Qt7qBemblA23cf1K/JaaoUHKD+UR01+amBqlIxSE9OfLfA3EoVAtW4XqiWf/aS6teppk8WrNTGbXuUkJQqHy9PdWoXpmee6K+Yr6arTY8RSsvIvmZ+OQ93rfridVWuEKj/mfyevlu7TbmXf1P9WlU1YnAvDX2om5as3qz35y1XWkZWgbsZ7mrXVNEfT9WxUwkaOWWWftq1X2azRW1bNNDEkQ9pw8I3de8jE7Xn4PF//Dt2BHl5eYqJidGGDRuUl2f9zo3AwED17NlTDRs2tGE6APbueiUAi38AAIzlZLFYCn6ta5DwPqO1ZdcBo2PYhJenh9L2LdHHX36nEVNm3vJ5PNzdlHNkhS6kZmjluu16bNyMQr+pf/zBbvro9dHq8uCzWr+l4Dvbg4P8lJySUeg1pox6WFNGPayGEY8V+DZ9+4rZalw/VAeOnlLXhycUeo5G9Wpo67KZevPjRZr65n+uOfb86Ec0dlg/tew+vNBv6qeOeURjhvZT3fBBSkpJv+ZY5QqB2r3qI22NO6D7n3ypwN0NQQG+2rj4HWVlX1Tr+0YU+rOVVVmHlsuz3M3tvr9nzx4tW7ZM6enpVse4urrqrrvuUufOneXiQn8IoHBpGdkFSgAW/wAAGM/Z6ACO6vba1WQyOSv+VPHdnj5iysxCF/+S9NnX3+t8YoqiItoUetza4l+SZn2+RGaLWZF3tiz0uJuri0Y9P9vqOfYdPqnVsTt1d3iLAsd6dW2vleu2W71Nf+bcJfL0cFePyHYFjk1+aqCcnKQhY6cX+mhDSlqmJr8xVy2b1FXXTndY/fkcXXJysj788EPNmzevyMV/w4YNNX78eEVGRrL4B1Ckq3cCVCwfIInFPwAA9oICwCD+ft6SpNT0rGI535qNu5RzMdfqcbPZosPHzqhG1Yo3fe60jGydOpukqlUKf63biTO/atOOfUWeY9/hk6oWUqHA57dVKq/4k9ZLkNT0LKWmZ6n63+Y6Ozupf1RHLVzxY4HHCv5qyepNSsvIpgAoxOXLl7VixQrNmDFD8fHxVscFBQVp6NChGjJkiPz9/W2YEEBpdrUE6NQ2jMU/AAB2gq/xDJKfb5YkOTk5Fcv5Dh49fd0x2TmX5O1Z7pbOn3MpV+U83Ao9duTYmevOz8q+KC9PjwKfZ2ZflI+3p9V5Hu5uCvDzVkZWzjWft2xSV0EBvordtqfI65rNFsWfPKc6oSHXzehIdu/ereXLlyszM9PqGDc3N3Xp0kUdO3aUyWSyYToAZUWAn7fW/ne60TEAAMAfKAAMkvbHN//+vt7Fc74ivgW/ymKxqKi+wcvTQ3eHt1CT22uqYnl/+fl6ycPdTe5urgqtWkkbrSy2M7Iu3sC1Cy87dvx8WBEdmsnZ2anQxxd6RLaVs7Oz1vy465rP69asKknq3K6pGtcPLfLagf4+upKXf92MjiAxMVHR0dE6frzoTRHDwsLUs2dP+fr62igZAAAAgJJGAWCQU+cSlZ9vVs1qlYrlfPlm8y3PLefhrlfHP6ohA7rKxeSsQ8fO6PTZJKWkZ+pCaqZyLuaqVdP6RVz71hfX0z/8Wuu/eVPz35mg0S++f80+Ah3bhGnG5Cc0b9EP+uVvu/j7/nHXQPPGdazue3BVSlrWDd2lUJbl5uZq9erV2rx5s8xF/K0EBwerf//+qlmzpg3TAQAAALAFCgCDpGVk68iJs2rWqI6hOVxcTPp+/mtqUKeaJrw2R18sjlF2zqUC4/p2Cy+R68fti9eA4S9r9itP6XDs59p76ITSM7JVNaSC6tW8TXO/Xq2np31QYN6l3MuSpIdGvKpjp86XSLaywGKxaOfOnVq5cqWysqzvN+Hh4aG7775b4eHhcnZmaxAAAACgLKIAMFDsT79o6EPdVSc0xOou+CXtsQfuVXirRoocOEFrN8VZHVfY8/vFZfe+eJ06m6gft+7RsVPn5eTkpKU/bFHMxjidPp9U6JzzSamSpNBqlSgArEhISNDChQt1+nTR+0O0aNFCUVFR8vHxsVEyAAAAAEagADDQB/OXa9jAKD375AANffYtQzKEt2qkk2cTi1z8BwX4/vkqp5LwxXsTtP/ISY2cMuuG5/y0c7+u5OXpztZNFLPRenZHFRe3S0u+XVzkmMqVK6tv376qUaOGbUIBAAAAMBT3+hpo3+GTmh+9RoP736M+95bMLfbX43oD73Mf1C9SJlPJ/Kn4+Xipc/tmWrgi9qbmZWZf1A+xuzSwd4TKebiXSLbSys3VVOTi38PDQ71799bYsWNZ/AMAAAAOhALAYKNfeF/7Dp/Q/HfHa9jA7ja//v4jp1S1crCaNqhV6PEWjevo6WH9lJl9/Z3+b0VGVo7OJlzQ8H/1ULOGtVUhyF9BAb4KCvC97mMHr8z8UpWCAzT75ZElkq20KurFkq1atdLEiRPVvn17m+UBAAAAYB8oAAyWmX1RXR58VlvjDuqDV0dp+4rZGvfv+9WqaT1VrhCoAD9v1QkNUXirRhr9eB9NHfNIsV7/kwXfKSU9U1/NnqRe97T/c3f9hnWra9ozg7Vy3qt65uWPFLf3aLFe968eGfWaIju21M6V7ysh7hsl/bxIST8vUubBZUrbv0RrFvyvuke0LjBv2+5DGjlllh7s1Vmxi95S327h8vPxkiQ5OzupTmiIHnvgXi2f+5JaNDZ2s0VbunwlX/d0vfeaz0JCQjRq1Cjdf//98vT0NCgZAAAAACOxB4AdSEnLVMQD4/Rwny4aNrC7Xho3uNBb888npmjx9xuL9doJSamKGjRJ7786StEfT5XFYpHZbJHJ5Kyde46o/7+n6cdte9WlQ/Nive5Vk58aqCEDumrhilj9cuC4MrMvymL5/bV+7m6uqn5bRXWPaK0lc6bpyYnvas5XK6+Z/9nXqxR/8pymjvmXFsycKBcXky7/dkUuJpNMJmddSM3Qqg07dDbhQonkt1ft23eQv5+vjhw5orCwMDVq1MjoSAAAAAAM5mS5utqyA+F9RmvLrgNGxzBcoL+P6teqquDy/srLy1daepbOJ6bo5NnEEr1u/VpVVa92Vf32W56Onjir+JMlu7v+1DGP6PEHu6ljv6d1/HSC1XEuLiatWfCGateooqqtHrQ6LjjIT43qhcrf11tpGb//zo4cP1sS0e1e1qHl8izH3ggAAAAA/h93ANih1PQsQ4qQQ8fO6NCxMza73ujH++qdOdFFLv4lKS8vX4u/36h3XhiuiuUDlHghrdBxySkZWr/l55KICgAAAAClHnsAwBC1a1SRr7enTp1LuqHxzs7Oslgsyr54qYSTAQAAAEDZRAEAQ6SmZyk/36y6oSE3NL7XPe21a+9R5VzMLeFkAAAAAFA2UQDAEKnpWfpu7VY98XCUOrUNszquQpC/Pn9rnFo1rafnXv/UhgkBAAAAoGxhDwAYZtiEt7Vg5kStWfCGtuzar5/3xyslLUvOzk4K8PPW7bWrqU3zBjp1LlE9Hn1e6zbvNjoyAAAAAJRavAUAhovo0FxREa1Vu0YV+Xh7KS8vT+mZ2Tp64pzWbt6tdZt3y2y2mz/TUoG3AAAAAAD4O+4AgOHWborT2k1xRscAAAAAgDKNPQAAAAAAAHAAFAAAAAAAADgACgAAAAAAABwABQAAAAAAAA7ArgoAJycnoyMAZQL/lAAAAAD8nV0VAN7enkZHAMoEVxde8AEAAADgWnZVAAT5+xgdASgTXFxMRkcAAAAAYGfsqgCoFlLB6AhAqde4fqjREQAAAADYIbsqANq3bGh0BKDU6xLe3OgIAAAAAOyQXRUA7SgAgH/svi5tjY4AAAAAwA7ZVQHg7+utEYN7GR0DKLXaNLtdHds0MToGAAAAADtkVwWAJI0fPkAe7m5GxwBKpdeee9zoCAAAAADslN0VAFUqBumNSUONjgGUOo8O6Ko7Wzc2OgYAAAAAO+VksVgsRocoTLdBk7R6ww6jYwClwu21q2nL0vfk6+1pdBQAAAAAdsru7gC4auV/XlGPyHZGxwDsXrOGtRW76C0W/wAAAACKZLcFgCR9+8kLGj/8AaNjAHard9cO2rj4bQUF+BodBQAAAICds9tHAP7q21WbNObFD3TmfLLRUQC7UD7QT5NGPqSnHu1tdBQAAAAApUSpKACuWr1hh7b/clgH40/r16Q0o+MANuXv56UGdaqrZZO66ta5tdxcXYyOBAAAAKAUKVUFAAAAAAAAuDV2vQcAAAAAAAAoHhQAAAAAAAA4AAoAAAAAAAAcAAUAAAAAAAAOgAIAAAAAAAAHQAEAAAAAAIADoAAAAAAAAMABUAAAAAAAAOAAKAAAAAAAAHAAFAAAAAAAADgACgAAAAAAABwABQAAAAAAAA6AAgAAAAAAAAdAAQAAAAAAgAOgAAAAAAAAwAFQAAAAAAAA4AAoAAAAAAAAcAD/BwAA///s2IEAAAAAgCB/60EujAQAAAAADAgAAAAAGBAAAAAAMCAAAAAAYEAAAAAAwIAAAAAAgAEBAAAAAAMCAAAAAAYEAAAAAAwIAAAAABgQAAAAADAgAAAAAGBAAAAAAMCAAAAAAIABAQAAAAADAgAAAAAGBAAAAAAMCAAAAAAYEAAAAAAwIAAAAABgQAAAAADAgAAAAACAAQEAAAAAAwIAAAAABgQAAAAADAgAAAAAGBAAAAAAMCAAAAAAYEAAAAAAwIAAAAAAgAEBAAAAAAMCAAAAAAYEAAAAAAwIAAAAABgQAAAAADAgAAAAAGBAAAAAAMCAAAAAAIABAQAAAAADAgAAAAAGBAAAAAAMCAAAAAAYEAAAAAAwIAAAAABgQAAAAADAgAAAAACAAQEAAAAAAwIAAAAABgQAAAAADAgAAAAAGBAAAAAAMCAAAAAAYEAAAAAAwIAAAAAAgAEBAAAAAAMCAAAAAAYEAAAAAAwIAAAAABgQAAAAADAgAAAAAGBAAAAAAMCAAAAAAIABAQAAAAADAgAAAAAGAgAA///s2IEAAAAAgCB/60EujAQAAAAADAgAAAAAGBAAAAAAMCAAAAAAYEAAAAAAwIAAAAAAgAEBAAAAAAMCAAAAAAYEAAAAAAwIAAAAABgQAAAAADAgAAAAAGBAAAAAAMCAAAAAAIABAQAAAAADAgAAAAAGBAAAAAAMCAAAAAAYEAAAAAAwIAAAAABgQAAAAADAgAAAAACAAQEAAAAAAwIAAAAABgQAAAAADAgAAAAAGBAAAAAAMCAAAAAAYEAAAAAAwIAAAAAAgAEBAAAAAAMCAAAAAAYEAAAAAAwIAAAAABgQAAAAADAgAAAAAGBAAAAAAMCAAAAAAIABAQAAAAADAgAAAAAGBAAAAAAMCAAAAAAYEAAAAAAwIAAAAABgQAAAAADAgAAAAACAAQEAAAAAAwIAAAAABgQAAAAADAgAAAAAGBAAAAAAMCAAAAAAYEAAAAAAwIAAAAAAgAEBAAAAAAMCAAAAAAYEAAAAAAwIAAAAABgQAAAAADAgAAAAAGBAAAAAAMCAAAAAAIABAQAAAAADAgAAAAAGAgAA///s2IEAAAAAgCB/60EujAQAAAAADAgAAAAAGBAAAAAAMCAAAAAAYEAAAAAAwIAAAAAAgAEBAAAAAAMCAAAAAAYEAAAAAAwIAAAAABgQAAAAADAgAAAAAGBAAAAAAMCAAAAAAIABAQAAAAADAgAAAAAGBAAAAAAMCAAAAAAYEAAAAAAwIAAAAABgQAAAAADAgAAAAACAAQEAAAAAAwIAAAAABgQAAAAADAgAAAAAGBAAAAAAMCAAAAAAYEAAAAAAwIAAAAAAgAEBAAAAAAMCAAAAAAYEAAAAAAwIAAAAABgQAAAAADAgAAAAAGBAAAAAAMCAAAAAAIABAQAAAAADAgAAAAAGBAAAAAAMCAAAAAAYEAAAAAAwIAAAAABgQAAAAADAgAAAAACAAQEAAAAAAwIAAAAABgQAAAAADAgAAAAAGBAAAAAAMCAAAAAAYEAAAAAAwIAAAAAAgAEBAAAAAAMCAAAAAAYEAAAAAAwIAAAAABgQAAAAADAgAAAAAGBAAAAAAMCAAAAAAIABAQAAAAADAgAAAAAGAgAA///t2IEAAAAAgCB/60EujAQAAAAADAgAAAAAGBAAAAAAMCAAAAAAYEAAAAAAwIAAAAAAgAEBAAAAAAMCAAAAAAYEAAAAAAwIAAAAABgQAAAAADAgAAAAAGBAAAAAAMCAAAAAAIABAQAAAAADAgAAAAAGBAAAAAAMCAAAAAAYEAAAAAAwIAAAAABgQAAAAADAgAAAAACAAQEAAAAAAwIAAAAABgQAAAAADAgAAAAAGBAAAAAAMCAAAAAAYEAAAAAAwIAAAAAAgAEBAAAAAAMCAAAAAAYEAAAAAAwIAAAAABgQAAAAADAgAAAAAGBAAAAAAMCAAAAAAIABAQAAAAADAgAAAAAGBAAAAAAMCAAAAAAYEAAAAAAwIAAAAABgQAAAAADAgAAAAACAAQEAAAAAAwIAAAAABgQAAAAADAgAAAAAGBAAAAAAMCAAAAAAYEAAAAAAwIAAAAAAgAEBAAAAAAMCAAAAAAYEAAAAAAwIAAAAABgQAAAAADAgAAAAAGBAAAAAAMCAAAAAAIABAQAAAAADAgAAAAAGAtbhHwKsH7uxAAAAAElFTkSuQmCC)"
      ],
      "metadata": {
        "id": "TQ_U_9K4kFcB"
      }
    },
    {
      "cell_type": "code",
      "source": [
        "port_stem = PorterStemmer()"
      ],
      "metadata": {
        "id": "Zw-kYfAkd5cc"
      },
      "execution_count": 17,
      "outputs": []
    },
    {
      "cell_type": "code",
      "source": [
        "def stemming(content):\n",
        "  stemmed_content = re.sub('[^a-zA-Z]',' ',content)\n",
        "  stemmed_content = stemmed_content.lower()\n",
        "  stemmed_content = stemmed_content.split()\n",
        "  stemmed_content = [port_stem.stem(word) for word in stemmed_content if not word in stopwords.words('english')]\n",
        "  stemmed_content = ' '.join(stemmed_content)\n",
        "  return stemmed_content"
      ],
      "metadata": {
        "id": "48P8wo31d9HE"
      },
      "execution_count": 18,
      "outputs": []
    },
    {
      "cell_type": "code",
      "source": [
        "news_data['content'] = news_data['content'].apply(stemming)"
      ],
      "metadata": {
        "id": "3iYhHI99eE4X"
      },
      "execution_count": 19,
      "outputs": []
    },
    {
      "cell_type": "code",
      "source": [
        "print(news_data['content'])"
      ],
      "metadata": {
        "colab": {
          "base_uri": "https://localhost:8080/"
        },
        "id": "7cOfjelSeGsJ",
        "outputId": "77763aad-b1cb-4232-aeb1-ab658e503fb9"
      },
      "execution_count": 20,
      "outputs": [
        {
          "output_type": "stream",
          "name": "stdout",
          "text": [
            "0        darrel lucu hous dem aid even see comey letter...\n",
            "1        daniel j flynn flynn hillari clinton big woman...\n",
            "2                   consortiumnew com truth might get fire\n",
            "3        jessica purkiss civilian kill singl us airstri...\n",
            "4        howard portnoy iranian woman jail fiction unpu...\n",
            "                               ...                        \n",
            "20795    jerom hudson rapper trump poster child white s...\n",
            "20796    benjamin hoffman n f l playoff schedul matchup...\n",
            "20797    michael j de la merc rachel abram maci said re...\n",
            "20798    alex ansari nato russia hold parallel exercis ...\n",
            "20799                            david swanson keep f aliv\n",
            "Name: content, Length: 20800, dtype: object\n"
          ]
        }
      ]
    },
    {
      "cell_type": "code",
      "source": [
        "X = news_data['content'].values\n",
        "Y = news_data['label'].values"
      ],
      "metadata": {
        "id": "MQkaPzHceITq"
      },
      "execution_count": 21,
      "outputs": []
    },
    {
      "cell_type": "code",
      "source": [
        "print(X)"
      ],
      "metadata": {
        "colab": {
          "base_uri": "https://localhost:8080/"
        },
        "id": "HgQdY6pLeKQh",
        "outputId": "47398140-104e-450c-ec77-dfbbe126043e"
      },
      "execution_count": 22,
      "outputs": [
        {
          "output_type": "stream",
          "name": "stdout",
          "text": [
            "['darrel lucu hous dem aid even see comey letter jason chaffetz tweet'\n",
            " 'daniel j flynn flynn hillari clinton big woman campu breitbart'\n",
            " 'consortiumnew com truth might get fire' ...\n",
            " 'michael j de la merc rachel abram maci said receiv takeov approach hudson bay new york time'\n",
            " 'alex ansari nato russia hold parallel exercis balkan'\n",
            " 'david swanson keep f aliv']\n"
          ]
        }
      ]
    },
    {
      "cell_type": "code",
      "source": [
        "print(Y)"
      ],
      "metadata": {
        "colab": {
          "base_uri": "https://localhost:8080/"
        },
        "id": "bL7kWZzGeLur",
        "outputId": "0a87b485-3f58-4bc4-a0ce-f398037ce723"
      },
      "execution_count": 23,
      "outputs": [
        {
          "output_type": "stream",
          "name": "stdout",
          "text": [
            "[1 0 1 ... 0 1 1]\n"
          ]
        }
      ]
    },
    {
      "cell_type": "code",
      "source": [
        "Y.shape"
      ],
      "metadata": {
        "colab": {
          "base_uri": "https://localhost:8080/"
        },
        "id": "-poDyz91eO3M",
        "outputId": "28036446-b0c0-4689-8e92-5c3b955a5434"
      },
      "execution_count": 24,
      "outputs": [
        {
          "output_type": "execute_result",
          "data": {
            "text/plain": [
              "(20800,)"
            ]
          },
          "metadata": {},
          "execution_count": 24
        }
      ]
    },
    {
      "cell_type": "markdown",
      "source": [
        "**`Feature Extraction`**\n",
        "\n",
        "TF-IDF, which stands for \"*Term Frequency — Inverse Document Frequency*,\" is a method used to assess the significance of words within a collection of documents. It involves calculating a score for each word to indicate its relevance in both the individual document and the entire corpus.\n"
      ],
      "metadata": {
        "id": "Qrk9U69EquJM"
      }
    },
    {
      "cell_type": "code",
      "source": [
        "vectorizer = TfidfVectorizer()\n",
        "vectorizer.fit(X)\n",
        "\n",
        "X = vectorizer.transform(X)"
      ],
      "metadata": {
        "id": "sZtnTIw3ePU2"
      },
      "execution_count": 25,
      "outputs": []
    },
    {
      "cell_type": "code",
      "source": [
        "print(X)"
      ],
      "metadata": {
        "colab": {
          "base_uri": "https://localhost:8080/"
        },
        "id": "DmRpyBz_eRA8",
        "outputId": "662c0ee8-3f16-470f-fd0e-02164581306c"
      },
      "execution_count": 26,
      "outputs": [
        {
          "output_type": "stream",
          "name": "stdout",
          "text": [
            "  (0, 15686)\t0.28485063562728646\n",
            "  (0, 13473)\t0.2565896679337957\n",
            "  (0, 8909)\t0.3635963806326075\n",
            "  (0, 8630)\t0.29212514087043684\n",
            "  (0, 7692)\t0.24785219520671603\n",
            "  (0, 7005)\t0.21874169089359144\n",
            "  (0, 4973)\t0.233316966909351\n",
            "  (0, 3792)\t0.2705332480845492\n",
            "  (0, 3600)\t0.3598939188262559\n",
            "  (0, 2959)\t0.2468450128533713\n",
            "  (0, 2483)\t0.3676519686797209\n",
            "  (0, 267)\t0.27010124977708766\n",
            "  (1, 16799)\t0.30071745655510157\n",
            "  (1, 6816)\t0.1904660198296849\n",
            "  (1, 5503)\t0.7143299355715573\n",
            "  (1, 3568)\t0.26373768806048464\n",
            "  (1, 2813)\t0.19094574062359204\n",
            "  (1, 2223)\t0.3827320386859759\n",
            "  (1, 1894)\t0.15521974226349364\n",
            "  (1, 1497)\t0.2939891562094648\n",
            "  (2, 15611)\t0.41544962664721613\n",
            "  (2, 9620)\t0.49351492943649944\n",
            "  (2, 5968)\t0.3474613386728292\n",
            "  (2, 5389)\t0.3866530551182615\n",
            "  (2, 3103)\t0.46097489583229645\n",
            "  :\t:\n",
            "  (20797, 13122)\t0.2482526352197606\n",
            "  (20797, 12344)\t0.27263457663336677\n",
            "  (20797, 12138)\t0.24778257724396507\n",
            "  (20797, 10306)\t0.08038079000566466\n",
            "  (20797, 9588)\t0.174553480255222\n",
            "  (20797, 9518)\t0.2954204003420313\n",
            "  (20797, 8988)\t0.36160868928090795\n",
            "  (20797, 8364)\t0.22322585870464118\n",
            "  (20797, 7042)\t0.21799048897828688\n",
            "  (20797, 3643)\t0.21155500613623743\n",
            "  (20797, 1287)\t0.33538056804139865\n",
            "  (20797, 699)\t0.30685846079762347\n",
            "  (20797, 43)\t0.29710241860700626\n",
            "  (20798, 13046)\t0.22363267488270608\n",
            "  (20798, 11052)\t0.4460515589182236\n",
            "  (20798, 10177)\t0.3192496370187028\n",
            "  (20798, 6889)\t0.32496285694299426\n",
            "  (20798, 5032)\t0.4083701450239529\n",
            "  (20798, 1125)\t0.4460515589182236\n",
            "  (20798, 588)\t0.3112141524638974\n",
            "  (20798, 350)\t0.28446937819072576\n",
            "  (20799, 14852)\t0.5677577267055112\n",
            "  (20799, 8036)\t0.45983893273780013\n",
            "  (20799, 3623)\t0.37927626273066584\n",
            "  (20799, 377)\t0.5677577267055112\n"
          ]
        }
      ]
    }
  ]
}